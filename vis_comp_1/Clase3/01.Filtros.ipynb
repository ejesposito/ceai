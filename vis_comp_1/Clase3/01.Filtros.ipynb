{
 "cells": [
  {
   "cell_type": "markdown",
   "metadata": {},
   "source": [
    "## Filtros"
   ]
  },
  {
   "cell_type": "code",
   "execution_count": 1,
   "metadata": {},
   "outputs": [
    {
     "name": "stdout",
     "output_type": "stream",
     "text": [
      "Using matplotlib backend: Qt5Agg\n"
     ]
    }
   ],
   "source": [
    "#Si queremos que las imágenes sean mostradas en una ventana emergente quitar el inline\n",
    "# %matplotlib inline\n",
    "%matplotlib\n",
    "\n",
    "# OpenCV-Python utiliza NumPy para el manejo de imágenes\n",
    "import numpy as np\n",
    "# cv2 es el módulo python para acceder a OpenCV \n",
    "import cv2 as cv\n",
    "# Usamos las poderosas herramientas de graficación de matplotlib para mostrar imágenes, perfiles, histogramas, etc\n",
    "import matplotlib.pyplot as plt\n",
    "#Usamos también las poderosas herramientas de procesamiento de imágenes en python de Scikit\n",
    "from skimage.util import random_noise"
   ]
  },
  {
   "cell_type": "markdown",
   "metadata": {},
   "source": [
    "#### Filtro Gaussiano"
   ]
  },
  {
   "cell_type": "code",
   "execution_count": 2,
   "metadata": {},
   "outputs": [
    {
     "name": "stdout",
     "output_type": "stream",
     "text": [
      "[[0.12007838]\n",
      " [0.23388076]\n",
      " [0.29208172]\n",
      " [0.23388076]\n",
      " [0.12007838]]\n"
     ]
    }
   ],
   "source": [
    "# Para crear un kernel Gaussiano (unidimensional)\n",
    "\n",
    "nucleo_g= cv.getGaussianKernel(5, 1.5) \n",
    "# Parámetros:\n",
    "# ksize - Tamaño del núcleo, positivo impar (3,5,...)\n",
    "# sigma - Desvío estándar de la Gaussiana. Si no es positivo, se calcula como sigma = 0.3*((ksize-1)*0.5 - 1) + 0.8 \n",
    "# ktype - Tipo de coeficientes del filtro (Optional). Puede ser CV_32F o CV_64F\n",
    "\n",
    "print(nucleo_g)"
   ]
  },
  {
   "cell_type": "code",
   "execution_count": 3,
   "metadata": {},
   "outputs": [],
   "source": [
    "# Suavizado Gaussiano usando el Kernel\n",
    "#=====================================\n",
    "img_orig = cv.imread('chewbacca.jpg')\n",
    " \n",
    "# Creamos un núcleo Gaussiano unidimensional\n",
    "kX = cv.getGaussianKernel(17,5)\n",
    "kY = cv.getGaussianKernel(5,2)\n",
    " \n",
    "# Aplicamos el filtro Gaussiano. Con distinto núcleo para X e Y!\n",
    "b = cv.sepFilter2D(img_orig,-1,kX,kY)\n",
    "\n",
    "# Más fácil utilizando una única línea\n",
    "# (cuando el kernel es cuadrado)\n",
    "#=====================================\n",
    "c = cv.GaussianBlur(img_orig,(17,17),5)\n",
    "\n",
    "# Mostramos la imagen\n",
    "out1 = cv.hconcat([img_orig,b])\n",
    "out2 = cv.hconcat([img_orig,c])\n",
    "\n",
    "cv.namedWindow(\"Chewbacca Suave 1\",2)\n",
    "cv.imshow(\"Chewbacca Suave 1\",out1)\n",
    "\n",
    "cv.namedWindow(\"Chewbacca Suave 2\",2)\n",
    "cv.imshow(\"Chewbacca Suave 2\",out2)"
   ]
  },
  {
   "cell_type": "markdown",
   "metadata": {},
   "source": [
    "#### Filtro de mediana\n",
    "\n",
    "¿Por qué está esto acá?. Porque muchas veces es necesario antes de correr un filtro de búsqueda de bordes eliminar todo posible ruido que pueda generar falsas detecciones"
   ]
  },
  {
   "cell_type": "code",
   "execution_count": 4,
   "metadata": {},
   "outputs": [],
   "source": [
    "img2 = cv.imread('tapitas.jpg',0)\n",
    "\n",
    "# Agregar ruido salt&pepper a la imagen\n",
    "noise_img = random_noise(img2, mode=\"s&p\",amount=0.3)\n",
    "noise_img = np.array(255*noise_img, dtype = 'uint8')\n",
    "\n",
    "# Otra manera de agregar ruido tipo speckle (no es justo un salt&pepper) con numpy\n",
    "#gauss = np.random.normal(0,1,img2.size)\n",
    "#gauss = gauss.reshape(img2.shape[0],img2.shape[1]).astype('uint8')\n",
    "#noise_img = img2 + img2 * gauss\n",
    "\n",
    "# Aplicar el filtro de media\n",
    "mean = cv.blur(noise_img,(5,5))\n",
    "\n",
    "# Alicar el filtro de mediana\n",
    "median = cv.medianBlur(noise_img,5)\n",
    " \n",
    "# Mostrar la imagen\n",
    "cv.imshow('Original',noise_img)\n",
    "cv.imshow('Media',mean)\n",
    "cv.imshow('Mediana',median)"
   ]
  },
  {
   "cell_type": "markdown",
   "metadata": {},
   "source": [
    "#### Filtrado por Fourier"
   ]
  },
  {
   "cell_type": "code",
   "execution_count": 8,
   "metadata": {},
   "outputs": [],
   "source": [
    "# Para el ejemplo anterior (imagen con ruido agregado), analicémosla por Fourier\n",
    "\n",
    "numpy=False\n",
    "\n",
    "if numpy: \n",
    "    # Calculamos la FFT\n",
    "    f = np.fft.fft2(noise_img)\n",
    "    # La desplazamos en N/2 para analizarla más facilmente\n",
    "    fshift = np.fft.fftshift(f)\n",
    "    # Obtenemos la magnitud\n",
    "    magnitude_spectrum = 20*np.log(np.abs(fshift))\n",
    "\n",
    "    # Graficamos\n",
    "\n",
    "    fig = plt.figure()\n",
    "\n",
    "    ax1=plt.subplot(121)\n",
    "    ax1.imshow(noise_img, cmap = 'gray')\n",
    "    ax1.set_title('Imagen original'), plt.xticks([]), plt.yticks([])\n",
    "    ax2=plt.subplot(122)\n",
    "    ax2.imshow(magnitude_spectrum, cmap = 'gray')\n",
    "    ax2.set_title('Amplitud del espectro'), plt.xticks([]), plt.yticks([])\n",
    "    plt.show()\n",
    "\n",
    "    rows, cols = noise_img.shape\n",
    "    crow,ccol = rows//2 , cols//2\n",
    "    # Un pasa-altos es una ventana cuadrada centrada con ceros (todo lo demás en 1)\n",
    "    fshift[crow-20:crow+21, ccol-20:ccol+21] = 0\n",
    "    f_ishift = np.fft.ifftshift(fshift)\n",
    "    img_back = np.fft.ifft2(f_ishift)\n",
    "    \n",
    "    img_back = np.real(noise_img-img_back)\n",
    "    plt.subplot(121),plt.imshow(noise_img, cmap = 'gray')\n",
    "    plt.title('Imagen de entrada'), plt.xticks([]), plt.yticks([])\n",
    "    plt.subplot(122),plt.imshow(img_back, cmap = 'gray')\n",
    "    plt.title('Imagen luego de HPF'), plt.xticks([]), plt.yticks([])\n",
    "    plt.show()\n",
    "\n",
    "else:\n",
    "    # En OpenCV es parecido. Calculamos la DFT\n",
    "    dft = cv.dft(np.float32(noise_img),flags = cv.DFT_COMPLEX_OUTPUT)\n",
    "    dft_shift = np.fft.fftshift(dft)\n",
    "    magnitude_spectrum = 20*np.log(cv.magnitude(dft_shift[:,:,0],dft_shift[:,:,1]))\n",
    "    \n",
    "    # Graficamos la magnitud\n",
    "    fig = plt.figure()\n",
    "    ax1=plt.subplot(121)\n",
    "    ax1.imshow(noise_img, cmap = 'gray')\n",
    "    ax1.set_title('Input Image')\n",
    "    ax2=plt.subplot(122)\n",
    "    ax2.imshow(magnitude_spectrum, cmap = 'gray')\n",
    "    ax2.set_title('Magnitude Spectrum')\n",
    "    plt.show()\n",
    "    \n",
    "    # Filtro\n",
    "    rows, cols = noise_img.shape\n",
    "    crow,ccol = np.int_(rows/2), np.int_(cols/2)\n",
    "    # Primero crear la máscara, escalón centrado con 1, resto en cero (esto es un pasabajos)\n",
    "    mask = np.ones((rows,cols,2),np.uint8)\n",
    "    mask[crow-25:crow+25, ccol-25:ccol+25] = 0\n",
    "    # Aplicamos la máscara y hacemos la DFT inversa\n",
    "    fshift = dft_shift*mask\n",
    "    f_ishift = np.fft.ifftshift(fshift)\n",
    "    img_back = cv.idft(f_ishift)\n",
    "    img_back = cv.magnitude(img_back[:,:,0],img_back[:,:,1])\n",
    "    \n",
    "    # Graficamos\n",
    "    fig = plt.figure()\n",
    "    ax1=plt.subplot(121)\n",
    "    ax1.imshow(noise_img, cmap = 'gray')\n",
    "    ax1.set_title('Input Image'), plt.xticks([]), plt.yticks([])\n",
    "    ax2=plt.subplot(122)\n",
    "    ax2.imshow(img_back, cmap = 'gray')\n",
    "    ax2.set_title('Magnitude Spectrum'), plt.xticks([]), plt.yticks([])\n",
    "    plt.show()"
   ]
  },
  {
   "cell_type": "markdown",
   "metadata": {},
   "source": [
    "#### DoG"
   ]
  },
  {
   "cell_type": "code",
   "execution_count": 9,
   "metadata": {},
   "outputs": [],
   "source": [
    "# Cargamos la imagen\n",
    "#img_orig = cv.imread('tapitas.jpg',0)\n",
    "img_orig = cv.imread('chewbacca.jpg',0)\n",
    "\n",
    "# Aplicamos un suavizado Gaussiano de 3x3 y de 5x5\n",
    "low_sigma = cv.GaussianBlur(img_orig,(3,3),0,0)\n",
    "high_sigma = cv.GaussianBlur(img_orig,(5,5),0,0)\n",
    "\n",
    "# Calculamos el DoG por sustracción\n",
    "dog = low_sigma - high_sigma\n",
    "\n",
    "# Aplico filtro de mediana\n",
    "median = cv.medianBlur(dog,5)\n",
    "\n",
    "# Mostramos la imagen\n",
    "#out1 = cv.hconcat([img_orig,dog,median])\n",
    "#cv.namedWindow(\"Tapitas DoG\",2)\n",
    "#cv.imshow(\"Tapitas DoG\",out1)\n",
    "\n",
    "# Mostramos la imagen\n",
    "out1 = cv.hconcat([img_orig,dog,median])\n",
    "cv.namedWindow(\"Chewbacca the DoG\",2)\n",
    "cv.imshow(\"Chewbacca the DoG\",out1)"
   ]
  },
  {
   "cell_type": "markdown",
   "metadata": {},
   "source": [
    "#### Filtro bilateral"
   ]
  },
  {
   "cell_type": "code",
   "execution_count": 10,
   "metadata": {},
   "outputs": [],
   "source": [
    "# Aplicamos el filtro bilateral\n",
    "#==============================\n",
    "d=9\n",
    "img_blt=cv.bilateralFilter(img_orig, d, 2*d, d/2)\n",
    "# Parámetros:\n",
    "# src - imagen de entrada\n",
    "# d - Tamaño de filtro. Si no es positivo se calcula desde sigmaSpace\n",
    "# sigmaColor - Filtro sigma en el espacio de color (Filtro de Rango)\n",
    "# sigmaSpace - Filtro sigma en el espacio de coordenadas (Filtro de Dominio)\n",
    "# borderType - Tipos de borde (opcional)\n",
    "\n",
    "# Mostramos la imagen\n",
    "out1 = cv.hconcat([img_orig,img_blt])\n",
    "cv.namedWindow(\"Chewbacca Bilateral\",2)\n",
    "cv.imshow(\"Chewbacca Bilateral\",out1)"
   ]
  },
  {
   "cell_type": "markdown",
   "metadata": {},
   "source": [
    "#### Unsharp masking"
   ]
  },
  {
   "cell_type": "code",
   "execution_count": 11,
   "metadata": {},
   "outputs": [],
   "source": [
    "# Cargar la imagen (la carga como BGR)\n",
    "img_orig = cv.imread(\"chewbacca.jpg\")\n",
    "# La convertimos a RGB\n",
    "img_orig = cv.cvtColor(img_orig,cv.COLOR_BGR2RGB)\n",
    "# Suavizar la imagen\n",
    "gauss = cv.GaussianBlur(img_orig, (7,7), 0)\n",
    "# Aplicar la máscara de enfoque: \n",
    "# addWeighted calcula la suma pesada de dos arreglos según: dst(I)=saturate(src1(I)∗alpha+src2(I)∗beta+gamma)\n",
    "# parámetros: (src1(I),alpha,src2(I),beta,gamma)\n",
    "img_sharp = cv.addWeighted(img_orig, 2, gauss, -1, 0)\n",
    "\n",
    "# Más enfocada\n",
    "k=1.5\n",
    "img_sharp2 = cv.addWeighted(img_orig, k+1, gauss, -k, 0)\n",
    "\n",
    "# Re enfocada\n",
    "k=2\n",
    "img_sharp3 = cv.addWeighted(img_orig, k+1, gauss, -k, 0)\n",
    "\n",
    "\n",
    "# Nueva figura\n",
    "fig = plt.figure()\n",
    "\n",
    "ax1=plt.subplot(221)\n",
    "ax1.set_title('Original')\n",
    "ax1.imshow(img_orig)\n",
    "ax2=plt.subplot(222)\n",
    "ax2.set_title('Enfocada (k=1)')\n",
    "ax2.imshow(img_sharp)\n",
    "ax3=plt.subplot(223)\n",
    "ax3.set_title('Más enfocada (k=1.5)')\n",
    "ax3.imshow(img_sharp2)\n",
    "ax4=plt.subplot(224)\n",
    "ax4.set_title('Re enfocada (k=2)')\n",
    "ax4.imshow(img_sharp3)\n",
    "\n",
    "fig.show()\n",
    "\n",
    "# Mostrar las imagenes lado a lado usando cv2.hconcat\n",
    "#out1 = cv.hconcat([img_orig,img_sharp])\n",
    "#cv.namedWindow(\"Chewbacca\",2)\n",
    "#cv.imshow(\"Chewbacca\",out1)"
   ]
  },
  {
   "cell_type": "code",
   "execution_count": null,
   "metadata": {},
   "outputs": [],
   "source": []
  }
 ],
 "metadata": {
  "kernelspec": {
   "display_name": "Python 3",
   "language": "python",
   "name": "python3"
  },
  "language_info": {
   "codemirror_mode": {
    "name": "ipython",
    "version": 3
   },
   "file_extension": ".py",
   "mimetype": "text/x-python",
   "name": "python",
   "nbconvert_exporter": "python",
   "pygments_lexer": "ipython3",
   "version": "3.7.7"
  }
 },
 "nbformat": 4,
 "nbformat_minor": 4
}
