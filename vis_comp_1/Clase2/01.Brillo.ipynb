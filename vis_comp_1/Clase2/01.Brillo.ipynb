{
 "cells": [
  {
   "cell_type": "markdown",
   "metadata": {},
   "source": [
    "# Operadores de píxel\n",
    "\n",
    "Brillo\n",
    "Contraste\n",
    "Gamma"
   ]
  },
  {
   "cell_type": "code",
   "execution_count": 1,
   "metadata": {},
   "outputs": [
    {
     "name": "stdout",
     "output_type": "stream",
     "text": [
      "Using matplotlib backend: Qt5Agg\n"
     ]
    }
   ],
   "source": [
    "#Si queremos que las imágenes sean mostradas en una ventana emergente quitar el inline\n",
    "%matplotlib\n",
    "\n",
    "# OpenCV-Python utiliza NumPy para el manejo de imágenes\n",
    "import numpy as np\n",
    "# cv2 es el módulo python para acceder a OpenCV \n",
    "import cv2 as cv\n",
    "# Usamos las poderosas herramientas de graficación de matplotlib para mostrar imágenes, perfiles, histogramas, etc\n",
    "import matplotlib.pyplot as plt\n"
   ]
  },
  {
   "cell_type": "code",
   "execution_count": 2,
   "metadata": {},
   "outputs": [],
   "source": [
    "# Cargar una imagen en modo monocromático (un canal)\n",
    "#img = cv.imread('imgBloque1.bmp',cv.IMREAD_GRAYSCALE)\n",
    "img = cv.imread('mib-alien.jpg',cv.IMREAD_GRAYSCALE)"
   ]
  },
  {
   "cell_type": "markdown",
   "metadata": {},
   "source": [
    "#### Ejemplo: Cambio de contraste"
   ]
  },
  {
   "cell_type": "code",
   "execution_count": 5,
   "metadata": {},
   "outputs": [],
   "source": [
    "# Nueva figura\n",
    "fig = plt.figure()\n",
    "\n",
    "# Imagen original\n",
    "ax1=plt.subplot(221)\n",
    "ax1.imshow(img, cmap='gray', vmin=0, vmax=255)\n",
    "ax1.set_title('Original')\n",
    "\n",
    "hist1,bins1 = np.histogram(img.ravel(),256,[0,256])\n",
    "\n",
    "# Modificamos contraste 10%\n",
    "contraste=10\n",
    "img_mod=(1+contraste/100)*img\n",
    "img_mod=img_mod.round()\n",
    "np.clip(img_mod, 0, 255, out=img_mod)   # Clip trunca a lo que se le diga (0 a 255)\n",
    "img_mod=img_mod.astype('uint8') # Hay que castear a 8 bits\n",
    "ax2=plt.subplot(222)\n",
    "ax2.imshow(img_mod, cmap='gray', vmin=0, vmax=255)\n",
    "ax2.set_title('Contraste: {}%'.format(contraste))\n",
    "\n",
    "hist2,bins2 = np.histogram(img_mod.ravel(),256,[0,256])\n",
    "\n",
    "# Modificamos contraste 50%\n",
    "contraste=50\n",
    "img_mod=(1+contraste/100)*img\n",
    "np.clip(img_mod, 0, 255, out=img_mod)   # Clip trunca a lo que se le diga (0 a 255)\n",
    "img_mod=img_mod.astype('uint8')\n",
    "ax3=plt.subplot(223)\n",
    "ax3.imshow(img_mod, cmap='gray', vmin=0, vmax=255)\n",
    "ax3.set_title('Contraste: {}%'.format(contraste))\n",
    "\n",
    "hist3,bins3 = np.histogram(img_mod.ravel(),256,[0,256])\n",
    "\n",
    "# Modificamos contraste 80%\n",
    "contraste=80\n",
    "img_mod=(1+contraste/100)*img\n",
    "#np.clip(img_mod, 0, 255, out=img_mod)   # Clip trunca a lo que se le diga (0 a 255)\n",
    "img_mod=img_mod.astype('uint8')\n",
    "ax4=plt.subplot(224)\n",
    "ax4.imshow(img_mod, cmap='gray', vmin=0, vmax=255)\n",
    "ax4.set_title('Contraste: {}%'.format(contraste))\n",
    "\n",
    "hist4,bins4 = np.histogram(img_mod.ravel(),256,[0,256])\n",
    "\n",
    "plt.show()\n",
    "\n",
    "# Nueva figura\n",
    "fig = plt.figure()\n",
    "\n",
    "# Histogramas de la imagen\n",
    "plt.subplot(221), plt.plot(hist1)\n",
    "plt.subplot(222), plt.plot(hist2)\n",
    "plt.subplot(223), plt.plot(hist3)\n",
    "plt.subplot(224), plt.plot(hist4)\n",
    "plt.show()\n"
   ]
  },
  {
   "cell_type": "markdown",
   "metadata": {},
   "source": [
    "#### Ejemplo: Cambio de brillo"
   ]
  },
  {
   "cell_type": "code",
   "execution_count": 6,
   "metadata": {},
   "outputs": [],
   "source": [
    "# Nueva figura\n",
    "fig = plt.figure()\n",
    "\n",
    "# Imagen original\n",
    "ax1=plt.subplot(221)\n",
    "ax1.imshow(img, cmap='gray', vmin=0, vmax=255)\n",
    "ax1.set_title('Original')\n",
    "\n",
    "# Modificamos brillo 10%\n",
    "img_mod=img+(255*0.1)\n",
    "np.clip(img_mod, 0, 255, out=img_mod)   # Clip trunca a lo que se le diga (0 a 255)\n",
    "img_mod=img_mod.astype('uint8')         # Convierto a 8 bits\n",
    "ax2=plt.subplot(222)\n",
    "ax2.imshow(img_mod, cmap='gray', vmin=0, vmax=255)\n",
    "ax2.set_title('Brillo: 10%')\n",
    "\n",
    "hist2,bins2 = np.histogram(img_mod.ravel(),256,[0,256])\n",
    "\n",
    "# Modificamos brillo 50%\n",
    "img_mod=img+(255*0.5)\n",
    "np.clip(img_mod, 0, 255, out=img_mod)   # Clip trunca a lo que se le diga (0 a 255)\n",
    "img_mod=img_mod.astype('uint8')         # Convierto a 8 bits\n",
    "ax3=plt.subplot(223)\n",
    "ax3.imshow(img_mod, cmap='gray', vmin=0, vmax=255)\n",
    "ax3.set_title('Brillo: 50%')\n",
    "\n",
    "hist3,bins3 = np.histogram(img_mod.ravel(),256,[0,256])\n",
    "\n",
    "# Modificamos brillo 80%\n",
    "img_mod=img+(255*0.8)\n",
    "np.clip(img_mod, 0, 255, out=img_mod)   # Clip trunca a lo que se le diga (0 a 255)\n",
    "img_mod=img_mod.astype('uint8')         # Convierto a 8 bits\n",
    "# print(np.amin(img_mod))\n",
    "ax4=plt.subplot(224)\n",
    "ax4.imshow(img_mod, cmap='gray', vmin=0, vmax=255)\n",
    "ax4.set_title('Brillo: 80%')\n",
    "\n",
    "hist4,bins4 = np.histogram(img_mod.ravel(),255,[0,255])\n",
    "\n",
    "plt.show()\n",
    "\n",
    "# Nueva figura\n",
    "fig = plt.figure()\n",
    "\n",
    "# Histogramas de la imagen\n",
    "plt.subplot(221), plt.plot(hist1)\n",
    "plt.subplot(222), plt.plot(hist2)\n",
    "plt.subplot(223), plt.plot(hist3)\n",
    "plt.subplot(224), plt.plot(hist4)\n",
    "plt.show()\n"
   ]
  },
  {
   "cell_type": "markdown",
   "metadata": {},
   "source": [
    "#### Corrección por Gamma"
   ]
  },
  {
   "cell_type": "code",
   "execution_count": 7,
   "metadata": {},
   "outputs": [],
   "source": [
    "gamma = 1.1\n",
    "img_mod = np.power(img, gamma)\n",
    "ax1=plt.subplot(121)\n",
    "ax1.set_title('Original')\n",
    "plt.imshow(img, cmap='gray', vmin=0, vmax=255)\n",
    "ax2=plt.subplot(122)\n",
    "ax2.set_title('Corregido por Gamma:1.1')\n",
    "plt.imshow(img_mod, cmap='gray', vmin=0, vmax=255)\n",
    "\n",
    "plt.show()"
   ]
  },
  {
   "cell_type": "code",
   "execution_count": null,
   "metadata": {},
   "outputs": [],
   "source": []
  }
 ],
 "metadata": {
  "kernelspec": {
   "display_name": "Python 3",
   "language": "python",
   "name": "python3"
  },
  "language_info": {
   "codemirror_mode": {
    "name": "ipython",
    "version": 3
   },
   "file_extension": ".py",
   "mimetype": "text/x-python",
   "name": "python",
   "nbconvert_exporter": "python",
   "pygments_lexer": "ipython3",
   "version": "3.7.7"
  }
 },
 "nbformat": 4,
 "nbformat_minor": 2
}
