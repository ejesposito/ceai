{
 "cells": [
  {
   "cell_type": "markdown",
   "metadata": {
    "slideshow": {
     "slide_type": "slide"
    }
   },
   "source": [
    "# Ejercitación espacios de color\n",
    "\n",
    "Segmentación por color"
   ]
  },
  {
   "cell_type": "code",
   "execution_count": 1,
   "metadata": {},
   "outputs": [
    {
     "name": "stdout",
     "output_type": "stream",
     "text": [
      "Using matplotlib backend: Qt5Agg\n"
     ]
    }
   ],
   "source": [
    "#Si queremos que las imágenes sean mostradas en una ventana emergente quitar el inline\n",
    "%matplotlib\n",
    "\n",
    "# OpenCV-Python utiliza NumPy para el manejo de imágenes\n",
    "import numpy as np\n",
    "# cv2 es el módulo python para acceder a OpenCV \n",
    "import cv2 as cv\n",
    "# Usamos las poderosas herramientas de graficación de matplotlib para mostrar imágenes, perfiles, histogramas, etc\n",
    "import matplotlib.pyplot as plt\n"
   ]
  },
  {
   "cell_type": "code",
   "execution_count": 2,
   "metadata": {},
   "outputs": [],
   "source": [
    "# Cargar la imagen color\n",
    "#-----------------------\n",
    "img_color = cv.imread('pimiento_morron.jpg')\n",
    "imgRGB = cv.cvtColor(img_color, cv.COLOR_BGR2RGB)\n",
    "\n",
    "plt.figure(1)\n",
    "plt.imshow(imgRGB)\n",
    "plt.show()"
   ]
  },
  {
   "cell_type": "code",
   "execution_count": 3,
   "metadata": {},
   "outputs": [],
   "source": [
    "# Tomamos una muestra del morron amarillo\n",
    "#----------------------------------------\n",
    "#img_muestra = imgRGB[100:150,325:375,:]\n",
    "img_muestra = imgRGB[230:280,230:280,:]\n",
    "plt.figure(2)\n",
    "plt.imshow(img_muestra)\n",
    "plt.show()"
   ]
  },
  {
   "cell_type": "code",
   "execution_count": 4,
   "metadata": {},
   "outputs": [
    {
     "name": "stdout",
     "output_type": "stream",
     "text": [
      "[213.66680000000002, 132.0952, 21.5452]\n",
      "[16.6917398062632, 12.949460875264354, 15.321121269672139]\n"
     ]
    }
   ],
   "source": [
    "# Calculamos un modelo estadístico sencillo para caracterizar el color del morrón rojo en el espacio RGB\n",
    "#-----------------------------------------------------------------------------------------------------\n",
    "color_mean, color_std = cv.meanStdDev(img_muestra)\n",
    "\n",
    "print(color_mean.flatten().tolist())\n",
    "print(color_std.flatten().tolist())\n"
   ]
  },
  {
   "cell_type": "code",
   "execution_count": 8,
   "metadata": {},
   "outputs": [],
   "source": [
    "# Pintemos de blanco los puntos que estén cerca de color_mean en un radio menor que 3 sigmas\n",
    "#-----------------------------------------------------------------------------------------\n",
    "mask = cv.inRange(imgRGB, color_mean-color_std*7,  color_mean+color_std*7)\n",
    "img_segmentada = cv.bitwise_and(imgRGB, imgRGB, mask=mask)\n",
    "\n",
    "plt.figure(3)\n",
    "plt.imshow(img_segmentada)\n",
    "plt.show()\n"
   ]
  },
  {
   "cell_type": "code",
   "execution_count": 14,
   "metadata": {},
   "outputs": [],
   "source": [
    "from mpl_toolkits.mplot3d import Axes3D\n",
    "from matplotlib import cm\n",
    "from matplotlib import colors\n",
    "\n",
    "#r, g, b = cv.split(imgRGB)\n",
    "r, g, b = cv.split(img_HSV)\n",
    "fig = plt.figure()\n",
    "axis = fig.add_subplot(1, 1, 1, projection=\"3d\")\n",
    "\n",
    "pixel_colors = imgRGB.reshape((np.shape(imgRGB)[0]*np.shape(imgRGB)[1], 3))\n",
    "norm = colors.Normalize(vmin=-1.,vmax=1.)\n",
    "norm.autoscale(pixel_colors)\n",
    "pixel_colors = norm(pixel_colors).tolist()\n",
    "\n",
    "axis.scatter(r.flatten(), g.flatten(), b.flatten(), facecolors=pixel_colors, marker=\".\")\n",
    "axis.set_xlabel(\"Canal 1\")\n",
    "axis.set_ylabel(\"Canal 2\")\n",
    "axis.set_zlabel(\"Canal 3\")\n",
    "plt.show()"
   ]
  },
  {
   "cell_type": "code",
   "execution_count": 10,
   "metadata": {},
   "outputs": [
    {
     "name": "stdout",
     "output_type": "stream",
     "text": [
      "['COLORMAP_HSV', 'COLOR_BGR2HSV', 'COLOR_BGR2HSV_FULL', 'COLOR_HSV2BGR', 'COLOR_HSV2BGR_FULL', 'COLOR_HSV2RGB', 'COLOR_HSV2RGB_FULL', 'COLOR_RGB2HSV', 'COLOR_RGB2HSV_FULL']\n"
     ]
    }
   ],
   "source": [
    "# Trabajemos en HSV\n",
    "#------------------\n",
    "# Cuáles eran los flags para pasar a hsv ???\n",
    "flags = [i for i in dir(cv) if ( i.find('HSV')>0) ]\n",
    "print(flags)"
   ]
  },
  {
   "cell_type": "code",
   "execution_count": 12,
   "metadata": {},
   "outputs": [
    {
     "name": "stdout",
     "output_type": "stream",
     "text": [
      "(17.2744, 229.38400000000001, 213.66680000000002, 0.0)\n"
     ]
    }
   ],
   "source": [
    "# Pasamos la imagen a HSV y calculo el color de muestra\n",
    "#------------------------------------------------------\n",
    "img_HSV = cv.cvtColor(img_color, cv.COLOR_BGR2HSV)\n",
    "plt.figure(5)\n",
    "plt.imshow(img_HSV)\n",
    "\n",
    "#img_muestra = img_HSV[100:150,325:375,:]\n",
    "img_muestra_hsv = img_HSV[230:280,230:280,:]\n",
    "\n",
    "# Calculamos un modelo estadístico sencillo para caracterizar el color del morrón rojo en el espacio RGB\n",
    "color_mean = cv.mean(img_muestra_hsv)\n",
    "    \n",
    "print(color_mean)"
   ]
  },
  {
   "cell_type": "code",
   "execution_count": 10,
   "metadata": {},
   "outputs": [
    {
     "name": "stdout",
     "output_type": "stream",
     "text": [
      "[ 17 190 193]\n"
     ]
    }
   ],
   "source": [
    "# Cómo puedo segmentar el amarillo ?\n",
    "print(img_HSV[256,240,:])"
   ]
  },
  {
   "cell_type": "code",
   "execution_count": 13,
   "metadata": {},
   "outputs": [],
   "source": [
    "color_l = (14,100,100)\n",
    "color_u = (28,255,255)\n",
    "\n",
    "mask = cv.inRange(img_HSV, color_l,  color_u)\n",
    "img_segmentada = cv.bitwise_and(imgRGB, imgRGB, mask=mask)\n",
    "\n",
    "plt.figure(6)\n",
    "plt.imshow(img_segmentada)\n",
    "plt.show()\n"
   ]
  },
  {
   "cell_type": "code",
   "execution_count": null,
   "metadata": {},
   "outputs": [],
   "source": []
  }
 ],
 "metadata": {
  "kernelspec": {
   "display_name": "Python 3",
   "language": "python",
   "name": "python3"
  },
  "language_info": {
   "codemirror_mode": {
    "name": "ipython",
    "version": 3
   },
   "file_extension": ".py",
   "mimetype": "text/x-python",
   "name": "python",
   "nbconvert_exporter": "python",
   "pygments_lexer": "ipython3",
   "version": "3.7.7"
  }
 },
 "nbformat": 4,
 "nbformat_minor": 2
}
