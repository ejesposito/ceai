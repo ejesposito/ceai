{
 "cells": [
  {
   "cell_type": "markdown",
   "metadata": {},
   "source": [
    "# Anotaciones en imágenes \n",
    "\n",
    "Funciones básicas para graficar líneas, círculos y texto"
   ]
  },
  {
   "cell_type": "code",
   "execution_count": 1,
   "metadata": {},
   "outputs": [
    {
     "name": "stdout",
     "output_type": "stream",
     "text": [
      "Using matplotlib backend: Qt5Agg\n"
     ]
    }
   ],
   "source": [
    "# OpenCV-Python utiliza NumPy para el manejo de imágenes\n",
    "import numpy as np\n",
    "# cv2 es el módulo python para acceder a OpenCV \n",
    "import cv2 as cv\n",
    "# Usamos las poderosas herramientas de graficación de matplotlib para mostrar imágenes, perfiles, histogramas, etc\n",
    "import matplotlib.pyplot as plt\n",
    "\n",
    "#Si queremos que las imágenes sean mostradas en una ventana emergente quitar el inline\n",
    "%matplotlib   "
   ]
  },
  {
   "cell_type": "code",
   "execution_count": 2,
   "metadata": {},
   "outputs": [
    {
     "data": {
      "text/plain": [
       "<matplotlib.image.AxesImage at 0x7779e9f408>"
      ]
     },
     "execution_count": 2,
     "metadata": {},
     "output_type": "execute_result"
    }
   ],
   "source": [
    "img = cv.imread('imgBloque1.bmp')\n",
    "\n",
    "# Dibujo una línea\n",
    "# line(imagen,inicio,fin,color,ancho_linea,tipo_linea)\n",
    "cv.line(img,(350,0),(350,410),(0,0,0),2,cv.LINE_AA)\n",
    "cv.line(img,(250,0),(350,410),(0,0,255),2,cv.LINE_AA)\n",
    "plt.imshow(img[...,::-1])\n"
   ]
  },
  {
   "cell_type": "markdown",
   "metadata": {},
   "source": [
    "#### Tipos de líneas\n",
    "Filled: cv.FILLED\n",
    "4-connected line: cv.LINE_4 \n",
    "8-connected line: cv.LINE_8\n",
    "Antialiased line: cv.LINE_AA\n",
    "\t\n",
    "#### Explorar las posibilidades y buscar una explicación a las diferencias"
   ]
  },
  {
   "cell_type": "markdown",
   "metadata": {},
   "source": [
    "#### Ejercicio:\n",
    "Dibujar rectángulos (cv.rectangle)\n",
    "elipses (cv.ellipse)\n",
    "círculos (cv.circle)\n",
    "polígonos (cv.polylines)"
   ]
  },
  {
   "cell_type": "markdown",
   "metadata": {},
   "source": [
    "#### Ejercicio:\n",
    "Mostrar una versión en tonos de grises de la imagen con una línea roja dibujada"
   ]
  },
  {
   "cell_type": "code",
   "execution_count": 3,
   "metadata": {},
   "outputs": [],
   "source": [
    "# Escribo texto en la imagen\n",
    "# cv.putText(imagen,texto,posicion,fuente,escala,color,espesor,tipo_linea)\n",
    "\n",
    "cv.putText(img,'Holaaaaaa',(350,100),cv.FONT_HERSHEY_SIMPLEX,1,(0,0,255),2,cv.LINE_AA)\n",
    "plt.imshow(img[...,::-1])\n",
    "plt.show()"
   ]
  },
  {
   "cell_type": "code",
   "execution_count": null,
   "metadata": {},
   "outputs": [],
   "source": []
  }
 ],
 "metadata": {
  "kernelspec": {
   "display_name": "Python 3",
   "language": "python",
   "name": "python3"
  },
  "language_info": {
   "codemirror_mode": {
    "name": "ipython",
    "version": 3
   },
   "file_extension": ".py",
   "mimetype": "text/x-python",
   "name": "python",
   "nbconvert_exporter": "python",
   "pygments_lexer": "ipython3",
   "version": "3.7.7"
  }
 },
 "nbformat": 4,
 "nbformat_minor": 2
}
