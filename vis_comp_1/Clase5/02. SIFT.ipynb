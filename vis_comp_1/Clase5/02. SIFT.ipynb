{
 "cells": [
  {
   "cell_type": "markdown",
   "metadata": {},
   "source": [
    "## Características Locales"
   ]
  },
  {
   "cell_type": "code",
   "execution_count": 1,
   "metadata": {},
   "outputs": [
    {
     "name": "stdout",
     "output_type": "stream",
     "text": [
      "Using matplotlib backend: Qt5Agg\n"
     ]
    }
   ],
   "source": [
    "#Si queremos que las imágenes sean mostradas en una ventana emergente quitar el inline\n",
    "# %matplotlib inline\n",
    "%matplotlib\n",
    "\n",
    "# OpenCV-Python utiliza NumPy para el manejo de imágenes\n",
    "import numpy as np\n",
    "# cv2 es el módulo python para acceder a OpenCV \n",
    "import cv2 as cv\n",
    "# Usamos las poderosas herramientas de graficación de matplotlib para mostrar imágenes, perfiles, histogramas, etc\n",
    "import matplotlib.pyplot as plt"
   ]
  },
  {
   "cell_type": "code",
   "execution_count": 11,
   "metadata": {},
   "outputs": [],
   "source": [
    "# Cargamos la imagen a procesar\n",
    "img = cv.imread('cabildo.jpg')\n",
    "\n",
    "# La transformamos en escala de grises\n",
    "gray = cv.cvtColor(img,cv.COLOR_BGR2GRAY)"
   ]
  },
  {
   "cell_type": "markdown",
   "metadata": {},
   "source": [
    "#### 1. SIFT - características"
   ]
  },
  {
   "cell_type": "code",
   "execution_count": 5,
   "metadata": {},
   "outputs": [
    {
     "name": "stdout",
     "output_type": "stream",
     "text": [
      "3063\n"
     ]
    }
   ],
   "source": [
    "# Creamos el vector de características SIFT\n",
    "sift = cv.xfeatures2d.SIFT_create()\n",
    "\n",
    "# Y buscamos según el algoritmo...\n",
    "kp = sift.detect(gray,None)\n",
    "\n",
    "# Verificamos cuántas características encontró\n",
    "print(len(kp))\n",
    "\n",
    "# Dibujamos las características encontradas\n",
    "Detalle = True\n",
    "if Detalle:\n",
    "    # Dibujamos las características encontradas con más detalle\n",
    "    img=cv.drawKeypoints(gray,kp,img,flags=cv.DRAW_MATCHES_FLAGS_DRAW_RICH_KEYPOINTS)\n",
    "else:\n",
    "    # Dibujamos las características encontradas sin mucho detalle\n",
    "    img=cv.drawKeypoints(gray,kp,img)\n",
    "    \n",
    "cv.imshow('SIFT',img)\n",
    "\n",
    "#cv.imwrite('sift_keypoints.jpg',img)"
   ]
  },
  {
   "cell_type": "markdown",
   "metadata": {},
   "source": [
    "#### 2. SURF - características"
   ]
  },
  {
   "cell_type": "code",
   "execution_count": 7,
   "metadata": {},
   "outputs": [
    {
     "name": "stdout",
     "output_type": "stream",
     "text": [
      "1957\n"
     ]
    }
   ],
   "source": [
    "# Definimos el umbral para el Hessiano\n",
    "hess_thresh = 1000;\n",
    "\n",
    "# Calculamos las características con ese umbral\n",
    "surf = cv.xfeatures2d.SURF_create(hess_thresh)\n",
    "kp, des = surf.detectAndCompute(gray,None)\n",
    "\n",
    "# Verificamos cuántas características se encontraron\n",
    "print(len(kp))\n",
    "\n",
    "# Graficamos...\n",
    "Detalle = True\n",
    "if Detalle:\n",
    "    # Dibujamos las características encontradas con más detalle\n",
    "    img2=cv.drawKeypoints(gray,kp,img,flags=cv.DRAW_MATCHES_FLAGS_DRAW_RICH_KEYPOINTS)\n",
    "else:\n",
    "    # Dibujamos las características encontradas sin mucho detalle\n",
    "    img2=cv.drawKeypoints(gray,kp,img)\n",
    "\n",
    "cv.imshow('SURF',img2)\n",
    "#plt.imshow(img2),plt.show()"
   ]
  },
  {
   "cell_type": "markdown",
   "metadata": {},
   "source": [
    "#### 3. FAST - características"
   ]
  },
  {
   "cell_type": "code",
   "execution_count": 8,
   "metadata": {},
   "outputs": [
    {
     "name": "stdout",
     "output_type": "stream",
     "text": [
      "Umbral: 10\n",
      "nonmaxSuppression:True\n",
      "Vecindario: 2\n",
      "Keypoints totales con nonmaxSuppression: 14533\n"
     ]
    }
   ],
   "source": [
    "# Iniciamos el objeto FAST con valores por defecto\n",
    "fast = cv.FastFeatureDetector_create()\n",
    "\n",
    "# Encontramos y dibujamos los puntos clave (keypoints)\n",
    "kp = fast.detect(gray,None)\n",
    "\n",
    "# Devolvemos los valores por defecto\n",
    "print( \"Umbral: {}\".format(fast.getThreshold()) )\n",
    "print( \"nonmaxSuppression:{}\".format(fast.getNonmaxSuppression()) )\n",
    "print( \"Vecindario: {}\".format(fast.getType()) )\n",
    "print( \"Keypoints totales con nonmaxSuppression: {}\".format(len(kp)) )\n",
    "\n",
    "# Graficamos\n",
    "img2 = cv.drawKeypoints(gray, kp, None, color=(255,0,0))\n",
    "cv.imshow('FAST - NMS TRUE',img2)"
   ]
  },
  {
   "cell_type": "code",
   "execution_count": 12,
   "metadata": {},
   "outputs": [
    {
     "name": "stdout",
     "output_type": "stream",
     "text": [
      "Keypoints totales sin nonmaxSuppression: 49738\n"
     ]
    }
   ],
   "source": [
    "# Repetimos suprimiendo la no-supresión de máximos (nonmaxSuppression)\n",
    "fast.setNonmaxSuppression(0)\n",
    "kp = fast.detect(img,None)\n",
    "print( \"Keypoints totales sin nonmaxSuppression: {}\".format(len(kp)) )\n",
    "\n",
    "\n",
    "# Graficamos\n",
    "img3 = cv.drawKeypoints(img, kp, None, color=(255,0,0))\n",
    "cv.imshow('FAST - NMS FALSE',img3)"
   ]
  },
  {
   "cell_type": "markdown",
   "metadata": {},
   "source": [
    "#### 4. ORB - características"
   ]
  },
  {
   "cell_type": "code",
   "execution_count": 14,
   "metadata": {},
   "outputs": [
    {
     "name": "stdout",
     "output_type": "stream",
     "text": [
      "500\n"
     ]
    },
    {
     "data": {
      "text/plain": [
       "(None, None)"
      ]
     },
     "execution_count": 14,
     "metadata": {},
     "output_type": "execute_result"
    }
   ],
   "source": [
    "# Inicializamos el detector ORB\n",
    "orb = cv.ORB_create()\n",
    "\n",
    "# Encontramos los puntos clave (keypoints) - Es una versión de FAST\n",
    "kp = orb.detect(gray,None)\n",
    "\n",
    "# Calculamos los descriptores - Es una versión de BRIEF\n",
    "kp, des = orb.compute(gray, kp)\n",
    "\n",
    "# Verificamos cuántas características se encontraron\n",
    "print(len(kp))\n",
    "\n",
    "# Graficamos...\n",
    "Detalle = True\n",
    "if Detalle:\n",
    "    # Dibujamos las características encontradas con más detalle\n",
    "    img2=cv.drawKeypoints(gray,kp,img,flags=cv.DRAW_MATCHES_FLAGS_DRAW_RICH_KEYPOINTS)\n",
    "else:\n",
    "    # Dibujamos las características encontradas sin mucho detalle\n",
    "    img2=cv.drawKeypoints(gray,kp,img)\n",
    "    \n",
    "cv.imshow('ORB',img2), plt.show()"
   ]
  },
  {
   "cell_type": "code",
   "execution_count": null,
   "metadata": {},
   "outputs": [],
   "source": []
  }
 ],
 "metadata": {
  "kernelspec": {
   "display_name": "Python 3",
   "language": "python",
   "name": "python3"
  },
  "language_info": {
   "codemirror_mode": {
    "name": "ipython",
    "version": 3
   },
   "file_extension": ".py",
   "mimetype": "text/x-python",
   "name": "python",
   "nbconvert_exporter": "python",
   "pygments_lexer": "ipython3",
   "version": "3.7.7"
  }
 },
 "nbformat": 4,
 "nbformat_minor": 4
}
