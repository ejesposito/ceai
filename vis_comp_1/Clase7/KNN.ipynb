{
 "cells": [
  {
   "cell_type": "code",
   "execution_count": 1,
   "metadata": {},
   "outputs": [],
   "source": [
    "# Cargamos los módulos necesarios\n",
    "#================================\n",
    "import cv2 as cv\n",
    "import numpy as np\n",
    "import matplotlib.pyplot as plt"
   ]
  },
  {
   "cell_type": "markdown",
   "metadata": {},
   "source": [
    "### Generamos los datos sintéticos"
   ]
  },
  {
   "cell_type": "code",
   "execution_count": 2,
   "metadata": {},
   "outputs": [],
   "source": [
    "# Set de entrenamiento, características (x,y), con 25 valores. Sintético\n",
    "#-----------------------------------------------------------------------\n",
    "trainData = np.random.randint(0,100,(25,2)).astype(np.float32)\n",
    "\n",
    "# Asignamos salidas random (entre 0 y 1) a las muestras de entrenamiento (supervisado)\n",
    "#-------------------------------------------------------------------------------------\n",
    "responses = np.random.randint(0,2,(25,1)).astype(np.float32)\n",
    "\n",
    "# Mostramos los miembros de la familia y=0 (en rojo)\n",
    "#---------------------------------------------------\n",
    "red = trainData[responses.ravel()==0]\n",
    "\n",
    "# Mostramos los miembros de la familia y=1 (en azul)\n",
    "#---------------------------------------------------\n",
    "blue = trainData[responses.ravel()==1]"
   ]
  },
  {
   "cell_type": "markdown",
   "metadata": {},
   "source": [
    "### Generamos una nueva entrada y corremos el algoritmo"
   ]
  },
  {
   "cell_type": "code",
   "execution_count": 5,
   "metadata": {},
   "outputs": [
    {
     "name": "stdout",
     "output_type": "stream",
     "text": [
      "result:  [[1.]]\n",
      "\n",
      "neighbours:  [[1. 1. 0. 0. 1.]]\n",
      "\n",
      "distance:  [[ 50. 137. 221. 520. 592.]]\n",
      "\n"
     ]
    },
    {
     "data": {
      "image/png": "[encoded data removed]",
      "text/plain": [
       "<Figure size 432x288 with 1 Axes>"
      ]
     },
     "metadata": {
      "needs_background": "light"
     },
     "output_type": "display_data"
    }
   ],
   "source": [
    "# Nueva entrada (aleatoria)\n",
    "#--------------------------\n",
    "newcomer = np.random.randint(0,100,(1,2)).astype(np.float32)\n",
    "\n",
    "# Creamos el clasificador\n",
    "#------------------------\n",
    "knn = cv.ml.KNearest_create()\n",
    "knn.train(trainData, cv.ml.ROW_SAMPLE, responses)\n",
    "ret, results, neighbours ,dist = knn.findNearest(newcomer, 5)\n",
    "\n",
    "# Graficamos para que sea visible dónde está la nueva entrada\n",
    "#------------------------------------------------------------\n",
    "fig, ax = plt.subplots()\n",
    "ax.scatter(red[:,0],red[:,1],80,'r','^')\n",
    "ax.scatter(blue[:,0],blue[:,1],80,'b','s')\n",
    "ax.scatter(newcomer[:,0],newcomer[:,1],80,'g','o')\n",
    "\n",
    "print( \"result:  {}\\n\".format(results) )\n",
    "print( \"neighbours:  {}\\n\".format(neighbours) )\n",
    "print( \"distance:  {}\\n\".format(dist) )\n",
    "\n",
    "plt.show()"
   ]
  },
  {
   "cell_type": "markdown",
   "metadata": {},
   "source": [
    "### OCR utilizando KNN <br>\n",
    "\n",
    "Utilizamos el set de dígitos escritos a mano que viene en OpenCV: cv2/samples/data.<br>\n",
    "\n",
    "La idea es utilizar la imagen de cada dígito de 20x20 píxels tomando los valores de intensidad y armando un vector de 400 características sobre el cual entrenaremos (armaremos un mapa de 400 dimensiones) para luego con una nueva realización (también de dimensión 400) haremos una votación de las k muestras de entrenamiento que le queden más cerca en este multi-espacio para determinar a qué grupo pertenece."
   ]
  },
  {
   "cell_type": "code",
   "execution_count": 6,
   "metadata": {},
   "outputs": [
    {
     "name": "stdout",
     "output_type": "stream",
     "text": [
      "Accuracy: 93.333 %\n"
     ]
    }
   ],
   "source": [
    "# Leemos la imagen y la convertimos a escala de gris\n",
    "#---------------------------------------------------\n",
    "img = cv.imread('digits.png')\n",
    "gray = cv.cvtColor(img,cv.COLOR_BGR2GRAY)\n",
    "\n",
    "# Dividimos la imagen en 5000 celdas de 20x20 píxels\n",
    "#---------------------------------------------------\n",
    "cells = [np.hsplit(row,100) for row in np.vsplit(gray,50)]\n",
    "\n",
    "# Convertimos las celdas a numpy arrays. El tamaño resultante es de (50,100,20,20)\n",
    "#--------------------------------------------------------------------------------\n",
    "x = np.array(cells)\n",
    "#plt.imshow(x[4,99,:,:])\n",
    "\n",
    "# Ahora preparamos lo datos de entrenamiento y de testeo (permutando índices)\n",
    "#----------------------------------------------------------------------------\n",
    "percentage = 0.7\n",
    "n = x.shape[1]                    \n",
    "a = int(percentage * x.shape[1])  \n",
    "idxs_permutados = np.random.permutation(n)\n",
    "train_idxs = idxs_permutados[0:a]\n",
    "test_idxs = idxs_permutados[a:n]\n",
    "\n",
    "# Las características de cada caracter son simplemente los valores de intensidad colocados como\n",
    "# vector, es decir un vector de 20x20 = 400 posiciones\n",
    "#-----------------------------------------------------\n",
    "train = x[:,train_idxs].reshape(-1,400).astype(np.float32)    # Size = (50*a,400)\n",
    "test = x[:,test_idxs].reshape(-1,400).astype(np.float32)      # Size = (50*(n-a),400)\n",
    "\n",
    "# Creamos las etiquetas para datos de entrenamiento y testeo\n",
    "#-----------------------------------------------------------\n",
    "k = np.arange(10)\n",
    "train_labels = np.repeat(k,5*a)[:,np.newaxis]     # Son 5 filas por caracter, de ahí el 5\n",
    "test_labels = np.repeat(k,5*(n-a))[:,np.newaxis]  # Son 5 filas por caracter, de ahí el 5\n",
    "\n",
    "# Iniciamos el clasificador (kNN), entrenamos y luego testeamos (con k=3)\n",
    "#------------------------------------------------------------------------\n",
    "knn = cv.ml.KNearest_create()\n",
    "knn.train(train, cv.ml.ROW_SAMPLE, train_labels)\n",
    "ret,result,neighbours,dist = knn.findNearest(test,k=3)\n",
    "\n",
    "# Ahora verificamos la exactitud (accuracy) del clasificador. Para esto comparamos los resultados \n",
    "# contra las test_labels incorrectas\n",
    "#-----------------------------------\n",
    "matches = result==test_labels\n",
    "correct = np.count_nonzero(matches)\n",
    "accuracy = correct*100.0/result.size\n",
    "print('Accuracy: {:.3f} %'.format(accuracy))\n",
    "\n",
    "# Guardemos los datos de entrenamiento (para ver cuánto ocupa en memoria)\n",
    "np.savez('knn_data.npz',train=train, train_labels=train_labels)"
   ]
  },
  {
   "cell_type": "code",
   "execution_count": null,
   "metadata": {},
   "outputs": [],
   "source": []
  }
 ],
 "metadata": {
  "kernelspec": {
   "display_name": "Python 3",
   "language": "python",
   "name": "python3"
  },
  "language_info": {
   "codemirror_mode": {
    "name": "ipython",
    "version": 3
   },
   "file_extension": ".py",
   "mimetype": "text/x-python",
   "name": "python",
   "nbconvert_exporter": "python",
   "pygments_lexer": "ipython3",
   "version": "3.7.7"
  }
 },
 "nbformat": 4,
 "nbformat_minor": 4
}
