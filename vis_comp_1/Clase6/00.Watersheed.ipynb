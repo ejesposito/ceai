{
 "cells": [
  {
   "cell_type": "markdown",
   "metadata": {},
   "source": [
    "# Watersheed\n",
    "Segmentación basada en el algoritmo de watersheed o \"cuenca hidrográfica\""
   ]
  },
  {
   "cell_type": "code",
   "execution_count": 1,
   "metadata": {},
   "outputs": [
    {
     "name": "stdout",
     "output_type": "stream",
     "text": [
      "Using matplotlib backend: Qt5Agg\n"
     ]
    }
   ],
   "source": [
    "#Si queremos que las imágenes sean mostradas en una ventana emergente quitar el inline\n",
    "# %matplotlib inline\n",
    "%matplotlib\n",
    "\n",
    "import numpy as np\n",
    "import cv2 as cv\n",
    "import matplotlib.pyplot as plt"
   ]
  },
  {
   "cell_type": "code",
   "execution_count": 2,
   "metadata": {},
   "outputs": [
    {
     "data": {
      "text/plain": [
       "<matplotlib.image.AxesImage at 0x165ebaf208>"
      ]
     },
     "execution_count": 2,
     "metadata": {},
     "output_type": "execute_result"
    }
   ],
   "source": [
    "# Cargamos la imagen y la binarizamos por el método de Otzu\n",
    "img = cv.imread('piezas.png')\n",
    "\n",
    "gray = cv.cvtColor(img,cv.COLOR_BGR2GRAY)\n",
    "\n",
    "# Binarizamos...\n",
    "ret, thresh = cv.threshold(gray,0,255,cv.THRESH_BINARY+cv.THRESH_OTSU)\n",
    "\n",
    "plt.figure()\n",
    "plt.imshow(thresh,cmap='gray')"
   ]
  },
  {
   "cell_type": "markdown",
   "metadata": {},
   "source": [
    "### Marcadores\n",
    "\n",
    "El método de watersheed por OpenCV precisa que se le indiquen los marcadores (semillas) de manera que no se genere sobremarcación.\n",
    "\n",
    "Esto se logra a través de operaciones morfológicas"
   ]
  },
  {
   "cell_type": "markdown",
   "metadata": {},
   "source": [
    "#### Operaciones morfológicas\n",
    "\n",
    "Se busca intentar separar fondo de objetos lo mejor posible. Quedará:\n",
    "\n",
    "- Una zona de fondo seguro\n",
    "- Una zona de objetos seguro\n",
    "- Una zona de incertezas (la resta de las dos anteriores)"
   ]
  },
  {
   "cell_type": "code",
   "execution_count": 3,
   "metadata": {},
   "outputs": [
    {
     "name": "stdout",
     "output_type": "stream",
     "text": [
      "79.119385\n"
     ]
    },
    {
     "data": {
      "text/plain": [
       "<matplotlib.image.AxesImage at 0x1657a9be48>"
      ]
     },
     "execution_count": 3,
     "metadata": {},
     "output_type": "execute_result"
    }
   ],
   "source": [
    "# Reducción de ruido\n",
    "kernel = np.ones((3,3),np.uint8)\n",
    "opening = cv.morphologyEx(thresh,cv.MORPH_OPEN,kernel, iterations = 2)\n",
    "\n",
    "fig=plt.figure('Apertura (reduccion de ruido)')\n",
    "plt.imshow(opening,cmap='gray')\n",
    "\n",
    "# Área de fondo (background) segura. Zona negra!\n",
    "sure_bg = cv.dilate(opening,kernel,iterations=3)\n",
    "\n",
    "# Búsqueda del área de objeto (foreground) segura --> Podría usar solo unaa erosion o la función distancia (para figuras que se tocan)\n",
    "\n",
    "# MÉTODO 1: Solo erosión\n",
    "#-----------------------\n",
    "# sure_fg = cv.erode (opening, kernel, iterations = 3)\n",
    "\n",
    "# MÉTODO 2: Transformación de distancia (distancia de cada píxel al cero más cercano)\n",
    "#------------------------------------------------------------------------------------\n",
    "# Conviene cerrar primero la figura para que no haya agujeros (ceros) dentro de los objetos que afecten la transformada\n",
    "closing = cv.morphologyEx(opening,cv.MORPH_CLOSE,kernel, iterations = 2)\n",
    "# Ahora sí aplicamos la transformación de distancia\n",
    "dist_transform = cv.distanceTransform(closing,cv.DIST_L2,5)\n",
    "\n",
    "# Área de objeto (foreground) segura. Zona blanca!\n",
    "ret, sure_fg = cv.threshold(dist_transform,0.7*dist_transform.max(),255,0)\n",
    "print(dist_transform.max())\n",
    "\n",
    "# Búsqueda de la región no definida\n",
    "sure_fg = np.uint8(sure_fg)\n",
    "unknown = cv.subtract(sure_bg,sure_fg)\n",
    "\n",
    "#Graficamos...\n",
    "#=============\n",
    "fig=plt.figure('Transformación de distancia')\n",
    "plt.imshow(dist_transform,cmap='gray')\n",
    "\n",
    "fig=plt.figure('Fondo seguro')\n",
    "plt.imshow(sure_bg,cmap='gray')\n",
    "\n",
    "fig=plt.figure('Objetos seguros')\n",
    "plt.imshow(sure_fg,cmap='gray')"
   ]
  },
  {
   "cell_type": "markdown",
   "metadata": {},
   "source": [
    "#### Etiquetado\n",
    "\n",
    "En función del análisis morfológico anterior es que se realiza el etiquetado (utilizando componentes conexos)\n",
    "\n",
    "- Cada supuesto objeto con una etiqueta diferente\n",
    "- Los pixeles con incertidumbre con etiqueta 0"
   ]
  },
  {
   "cell_type": "code",
   "execution_count": 4,
   "metadata": {},
   "outputs": [
    {
     "data": {
      "text/plain": [
       "<matplotlib.image.AxesImage at 0x1662284308>"
      ]
     },
     "execution_count": 4,
     "metadata": {},
     "output_type": "execute_result"
    }
   ],
   "source": [
    "# Etiquetado de marcadores\n",
    "ret, markers = cv.connectedComponents(sure_fg)\n",
    "# Agregar un uno ('1') a todas las etiquetas (para evitar la etiqueta '0')\n",
    "markers = markers+1\n",
    "# Ahora, marcamos la región de incertezas con cero\n",
    "markers[unknown==255] = 0\n",
    "\n",
    "fig=plt.figure('Marcadores')\n",
    "plt.imshow(markers,cmap='jet')"
   ]
  },
  {
   "cell_type": "markdown",
   "metadata": {},
   "source": [
    "### Watersheed\n",
    "\n",
    "Una vez definidos los marcadores se corre el algoritmo de watersheed.\n",
    "\n",
    "Los bordes (devueltos por el algoritmo con valor -1) los \"pintamos\" de color rojo"
   ]
  },
  {
   "cell_type": "code",
   "execution_count": 5,
   "metadata": {},
   "outputs": [
    {
     "data": {
      "text/plain": [
       "<matplotlib.image.AxesImage at 0x16622f6688>"
      ]
     },
     "execution_count": 5,
     "metadata": {},
     "output_type": "execute_result"
    }
   ],
   "source": [
    "img_out = img.copy()\n",
    "img_out = cv.cvtColor(img_out,cv.COLOR_BGR2RGB)\n",
    "\n",
    "markers = cv.watershed(img_out,markers)\n",
    "img_out[markers == -1] = [255,0,0]\n",
    "\n",
    "fig=plt.figure('Bordes marcados')\n",
    "plt.imshow(img_out)#,cmap='jet')"
   ]
  },
  {
   "cell_type": "code",
   "execution_count": null,
   "metadata": {},
   "outputs": [],
   "source": []
  }
 ],
 "metadata": {
  "kernelspec": {
   "display_name": "Python 3",
   "language": "python",
   "name": "python3"
  },
  "language_info": {
   "codemirror_mode": {
    "name": "ipython",
    "version": 3
   },
   "file_extension": ".py",
   "mimetype": "text/x-python",
   "name": "python",
   "nbconvert_exporter": "python",
   "pygments_lexer": "ipython3",
   "version": "3.7.7"
  }
 },
 "nbformat": 4,
 "nbformat_minor": 2
}
