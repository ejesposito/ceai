{
 "cells": [
  {
   "cell_type": "markdown",
   "metadata": {},
   "source": [
    "# K-means\n",
    "Segmentación basada en el algoritmo de k-medias"
   ]
  },
  {
   "cell_type": "code",
   "execution_count": 1,
   "metadata": {},
   "outputs": [
    {
     "name": "stdout",
     "output_type": "stream",
     "text": [
      "Using matplotlib backend: Qt5Agg\n"
     ]
    }
   ],
   "source": [
    "#Si queremos que las imágenes sean mostradas en una ventana emergente quitar el inline\n",
    "# %matplotlib inline\n",
    "%matplotlib\n",
    "\n",
    "import numpy as np\n",
    "import cv2 as cv\n",
    "import matplotlib.pyplot as plt"
   ]
  },
  {
   "cell_type": "markdown",
   "metadata": {},
   "source": [
    "####  Leemos la imagen"
   ]
  },
  {
   "cell_type": "code",
   "execution_count": 2,
   "metadata": {},
   "outputs": [],
   "source": [
    "# Cargamos la imagen y la binarizamos por el método de Otzu\n",
    "img = cv.imread('piezas.png')\n",
    "\n",
    "cv.imshow('Imagen original',img)\n",
    "cv.waitKey(0)\n",
    "cv.destroyAllWindows()"
   ]
  },
  {
   "cell_type": "markdown",
   "metadata": {},
   "source": [
    "#### Corremos K-means\n",
    "\n",
    "Se basa en un corrimiento a partir de K semillas (se debe indicar el número K de semillas o grupos a identificar) que se desplazan a partir del cálculo iterativo de la media de las características más cercanas.\n",
    "\n",
    "En particular en este caso lo que se le pasa al algoritmo es una matriz con filas (de 3 columnas) con los colores RGB de cada pixel. De esta manera, cada fila es la característica (color) de ese píxel."
   ]
  },
  {
   "cell_type": "code",
   "execution_count": 9,
   "metadata": {},
   "outputs": [
    {
     "name": "stdout",
     "output_type": "stream",
     "text": [
      "Dimensión de la matriz de características (colores): (562237, 3)\n"
     ]
    }
   ],
   "source": [
    "# Cambiamos el tamaño a un array de Mx3 (con M el número de píxels). Es decir, un vector de M componentes por canal (R,G,B)\n",
    "Z = img.reshape((-1,3))\n",
    "print('Dimensión de la matriz de características (colores): {}'.format(Z.shape))\n",
    "\n",
    "# convert to np.float32\n",
    "Z = np.float32(Z)\n",
    "\n",
    "# Definimos el criterio de detención (Epsilon e iteraciones máximas) y número de clústers (K)\n",
    "criteria = (cv.TERM_CRITERIA_MAX_ITER + cv.TERM_CRITERIA_EPS, 10, 1.0)\n",
    "K = 2\n",
    "\n",
    "# Corremos el algoritmo de K-means con:\n",
    "# - El criterio de detención predefinido\n",
    "# - 10 ejecuciones del algoritmo distintos parametros iniciales (devuelve los centros de la corrida que de grupos más compactos)\n",
    "# - Parámetro de incialización de las semillas (aleatorio)\n",
    "ret,label,center = cv.kmeans(Z,K,None,criteria,10,cv.KMEANS_RANDOM_CENTERS)"
   ]
  },
  {
   "cell_type": "markdown",
   "metadata": {},
   "source": [
    "#### Interpretamos datos\n",
    "\n",
    "A partir de los centros de los grupos encontrados por K-means y las etiquetas por píxel armamos una nueva imagen con K colores\n",
    "\n",
    "- center: Centros de los grupos hallados\n",
    "- label: etiquetas (replica de los centros) a los que corresponde cada píxel, en su ubicación en la matriz de Mx3"
   ]
  },
  {
   "cell_type": "code",
   "execution_count": 10,
   "metadata": {},
   "outputs": [
    {
     "name": "stdout",
     "output_type": "stream",
     "text": [
      "Centros: \n",
      " [[ 62  83  21]\n",
      " [122 155 173]] \n",
      "\n",
      "Compactación: \n",
      " 761144491.0817292 \n",
      "\n"
     ]
    }
   ],
   "source": [
    "# Convertimos a uint8 y rearmamos la imagen original con los grupos hallados\n",
    "#===========================================================================\n",
    "\n",
    "# Mostramos los centros (colores) que forman cada grupo\n",
    "center = np.uint8(center)\n",
    "print('Centros: \\n {} \\n'.format(center))\n",
    "\n",
    "# La función también devuelve un parámetro de \"compactación\" basado en las diferencias cuadradas entre las muestras y los centros hallados  \n",
    "compact = np.uint8(ret)\n",
    "print('Compactación: \\n {} \\n'.format(ret))\n",
    "\n",
    "# Cada píxel que corresponde a un grupo tiene copiado como etiqueta el color al que corresponde. Hacemos un reshape al tamaño original de la matriz de imagen \n",
    "img_out = center[label.flatten()]  \n",
    "img_out = img_out.reshape((img.shape))\n",
    "\n",
    "# Mostramos la imagen compuesta\n",
    "cv.imshow('Imagen posterizada',img_out)\n",
    "cv.waitKey(0)\n",
    "cv.destroyAllWindows()"
   ]
  },
  {
   "cell_type": "code",
   "execution_count": null,
   "metadata": {},
   "outputs": [],
   "source": []
  }
 ],
 "metadata": {
  "kernelspec": {
   "display_name": "Python 3",
   "language": "python",
   "name": "python3"
  },
  "language_info": {
   "codemirror_mode": {
    "name": "ipython",
    "version": 3
   },
   "file_extension": ".py",
   "mimetype": "text/x-python",
   "name": "python",
   "nbconvert_exporter": "python",
   "pygments_lexer": "ipython3",
   "version": "3.7.7"
  }
 },
 "nbformat": 4,
 "nbformat_minor": 2
}
