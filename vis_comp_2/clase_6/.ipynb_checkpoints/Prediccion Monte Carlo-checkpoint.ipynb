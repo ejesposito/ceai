{
 "cells": [
  {
   "cell_type": "markdown",
   "metadata": {},
   "source": [
    "## El objetivo de este ejercicio es calcular la función de valor de una política dada usando sampleo Monte Carlo.\n",
    "<img src=\"Prediccion_MC.PNG\">"
   ]
  },
  {
   "cell_type": "code",
   "execution_count": null,
   "metadata": {
    "collapsed": true
   },
   "outputs": [],
   "source": [
    "%matplotlib inline\n",
    "\n",
    "import gym\n",
    "import matplotlib\n",
    "import numpy as np\n",
    "import sys\n",
    "\n",
    "from collections import defaultdict\n",
    "\n",
    "if \"../\" not in sys.path:\n",
    "  sys.path.append(\"../\") \n",
    "from lib.envs.blackjack import BlackjackEnv\n",
    "from lib import plotting\n",
    "\n",
    "matplotlib.style.use('ggplot')"
   ]
  },
  {
   "cell_type": "code",
   "execution_count": null,
   "metadata": {
    "collapsed": true
   },
   "outputs": [],
   "source": [
    "env = BlackjackEnv()"
   ]
  },
  {
   "cell_type": "code",
   "execution_count": null,
   "metadata": {
    "collapsed": true
   },
   "outputs": [],
   "source": [
    "def mc_prediction(policy, env, num_episodes, discount_factor=1.0):\n",
    "    \"\"\"\n",
    "    Algoritmo de predicción Monte Carlo \"primera-visita\". Calcula la función de valor para una \n",
    "    politica dada usando sampleo.\n",
    "    \n",
    "    Argumentos:\n",
    "        policy: Política, función que mapea observaciones a probabilidades de cada acción.\n",
    "        env: Ambiente de OpenAI gyn.\n",
    "        num_episodes: Número de episodios a samplear.\n",
    "        discount_factor: factor de descuento gama.\n",
    "    \n",
    "    Retorna:\n",
    "        Un diccionario que mapea estado -> valor.\n",
    "        El estado es una tupla y el valor es un float.\n",
    "    \"\"\"\n",
    "\n",
    "    # Mantiene una suma y conteo de los retornos de cada estado\n",
    "    # para calcular un promedio. Podría usarse un array para guardar todos los retornos\n",
    "    # pero sería ineficiente en memoria.\n",
    "    # CUIDADO: las llaves de un diccionario deben ser inmutables, por ejemplo tuples\n",
    "    returns_sum = defaultdict(float)\n",
    "    returns_count = defaultdict(float)\n",
    "    \n",
    "    # El valor final de la función de valor\n",
    "    V = defaultdict(float)\n",
    "    \n",
    "    # Implementar!\n",
    "    \n",
    "    # CONSEJOS:\n",
    "    # loop num_episodes veces\n",
    "      # generar un episodio de máximo 100 pasos\n",
    "      # un episodio es una lista de tuplas (estado, accion, recompensa)\n",
    "    \n",
    "      # con el episodio generado: \n",
    "      # iterar sobre los estados visitados en este episodio, \n",
    "      # TIP 1: podemos usar set() para obtener estados unicos\n",
    "      # por cada estado encontrar su primera aparición en el episodio (estamos implementando \"primera-visita\")\n",
    "      # obtener el retorno a partir de ese momento\n",
    "      # TIP 2: es posible iterar sobre los indices y valores devueltos por enumerate(lista) \n",
    "\n",
    "    return V    "
   ]
  },
  {
   "cell_type": "code",
   "execution_count": null,
   "metadata": {
    "collapsed": true
   },
   "outputs": [],
   "source": [
    "def sample_policy(observation):\n",
    "    \"\"\"\n",
    "    Una política que se planta si el jugador tiene un puntaje > 20 y pide otra carta caso contrario.\n",
    "    \"\"\"\n",
    "    score, dealer_score, usable_ace = observation\n",
    "    return 0 if score >= 20 else 1"
   ]
  },
  {
   "cell_type": "code",
   "execution_count": null,
   "metadata": {
    "collapsed": true,
    "scrolled": false
   },
   "outputs": [],
   "source": [
    "V_10k = mc_prediction(sample_policy, env, num_episodes=10000)\n",
    "plotting.plot_value_function(V_10k, title=\"10,000 Episodios\")\n",
    "\n",
    "V_500k = mc_prediction(sample_policy, env, num_episodes=500000)\n",
    "plotting.plot_value_function(V_500k, title=\"500,000 Episodios\")"
   ]
  },
  {
   "cell_type": "code",
   "execution_count": null,
   "metadata": {
    "collapsed": true
   },
   "outputs": [],
   "source": []
  }
 ],
 "metadata": {
  "kernelspec": {
   "display_name": "Python 3",
   "language": "python",
   "name": "python3"
  },
  "language_info": {
   "codemirror_mode": {
    "name": "ipython",
    "version": 3
   },
   "file_extension": ".py",
   "mimetype": "text/x-python",
   "name": "python",
   "nbconvert_exporter": "python",
   "pygments_lexer": "ipython3",
   "version": "3.5.2"
  }
 },
 "nbformat": 4,
 "nbformat_minor": 1
}
