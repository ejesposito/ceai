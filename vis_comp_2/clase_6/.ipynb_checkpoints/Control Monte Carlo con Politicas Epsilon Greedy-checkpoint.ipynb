{
 "cells": [
  {
   "cell_type": "markdown",
   "metadata": {},
   "source": [
    "## El objetivo de este ejercicio es calcular la función de política óptima epsilon greedy (\"epsilon-ávida\")\n",
    "<img src=\"Epsilon_Greedy_MC.PNG\">"
   ]
  },
  {
   "cell_type": "code",
   "execution_count": null,
   "metadata": {
    "collapsed": true
   },
   "outputs": [],
   "source": [
    "%matplotlib inline\n",
    "\n",
    "import gym\n",
    "import matplotlib\n",
    "import numpy as np\n",
    "import sys\n",
    "\n",
    "from collections import defaultdict\n",
    "if \"../\" not in sys.path:\n",
    "  sys.path.append(\"../\") \n",
    "from lib.envs.blackjack import BlackjackEnv\n",
    "from lib import plotting\n",
    "\n",
    "matplotlib.style.use('ggplot')"
   ]
  },
  {
   "cell_type": "code",
   "execution_count": null,
   "metadata": {
    "collapsed": true
   },
   "outputs": [],
   "source": [
    "# vamos a utilizar el ambiente de BlackJack como ejemplo\n",
    "env = BlackjackEnv()"
   ]
  },
  {
   "cell_type": "code",
   "execution_count": null,
   "metadata": {
    "collapsed": true
   },
   "outputs": [],
   "source": [
    "def make_epsilon_greedy_policy(Q, epsilon, nA):\n",
    "    \"\"\"\n",
    "    Crea una política epsilon-greedy basado en una q-función (función de valor estado-acción) y un epsilon dados.\n",
    "    \n",
    "    Argumentos:\n",
    "        Q: un diccionario que mapea cada estado/observación s a un array de numpy Q[s] = array([v_0, v_1, ... , v_nA]) de longitud nA\n",
    "        que para un índice a del array contiene el valor v_a de tomar la acción a en el estado s. \n",
    "        (en nuestra notación de la clase q(s,a))\n",
    "         \n",
    "        epsilon: probabilidad de seleccionar una acción aleatoria (obliga a explorar), valor entre 0 y 1.\n",
    "        \n",
    "        nA: número de acciones en el entorno\n",
    "    \n",
    "    Retorna:\n",
    "        Una función que dada una observación como argumento, retorna una política (un array de numpy de longitud nA)\n",
    "        con probabilidades para cada acción. La política es tal que toma la mejor acción según Q con probabilidad (1-epsilon)\n",
    "        y toma una acción al azar con probabilidad epsilon\n",
    "        \n",
    "    \"\"\"\n",
    "    def policy_fn(observation):\n",
    "        # devolver un array de longitud nA con valores epsilon/nA para todas las acciones\n",
    "        # excepto para la mejor acción según Q dada esta observación (estado), \n",
    "        # que debe tener probabilidad (1 - epsilon + epsilon/nA)\n",
    "        \n",
    "        # Implementar!\n",
    "        \n",
    "        pass\n",
    "        \n",
    "        \n",
    "    return policy_fn"
   ]
  },
  {
   "cell_type": "code",
   "execution_count": null,
   "metadata": {
    "collapsed": true
   },
   "outputs": [],
   "source": [
    "def mc_control_epsilon_greedy(env, num_episodes, discount_factor=1.0, epsilon=0.1):\n",
    "    \"\"\"\n",
    "    Control Monte Carlo utiliando políticas epsilon-greedy\n",
    "    Encuentra la política epsilon-greedy óptima.\n",
    "    \n",
    "    Argumentos:\n",
    "        env: ambiente de OpenAI gym.\n",
    "        num_episodes: número de episodios a samplear.\n",
    "        discount_factor: factor de descuento gama.\n",
    "        epsilon: probabilidad de samplear una acción aleatoria. Valor entre 0 y 1.\n",
    "    \n",
    "    Retorna:\n",
    "        Una tupla (Q, policy)\n",
    "        Q es un diccionario que mapea cada estado/observación s a un array de numpy Q[s] = array([v_0, v_1, ... , v_nA]) de longitud nA\n",
    "        que para un índice a del array contiene el valor v_a de tomar la acción a en el estado s. \n",
    "        (en nuestra notación de la clase q(s,a))\n",
    "        policy es una función que toma una observación/estado como argumento y retorna un array numpy \n",
    "        de longitud nA con las probabilidades de cada acción\n",
    "        \n",
    "    \"\"\"\n",
    "    \n",
    "    # mantienen la suma y la cantidad de retornos para cada estado\n",
    "    # para calcular un promedio. Podríamos utilizar un array para guardar todos los retornos\n",
    "    # también, pero sería más infeciente en términos de espacio\n",
    "    returns_sum = defaultdict(float)\n",
    "    returns_count = defaultdict(float)\n",
    "    \n",
    "    # La función de valor estado-acción resultante\n",
    "    # un diccionario que para cada estado devuelve un array de numpy de longitud nA\n",
    "    # con las probabilidades de cada acción\n",
    "    Q = defaultdict(lambda: np.zeros(env.action_space.n))\n",
    "    \n",
    "    # The policy we're following\n",
    "    # la política que estamos siguiendo\n",
    "    policy = make_epsilon_greedy_policy(Q, epsilon, env.action_space.n)\n",
    "    \n",
    "    # Implementar!\n",
    "   \n",
    "    # por cada episodio de num_episodes en total\n",
    "        # paso 1: generar un episodio\n",
    "        # para ello:\n",
    "        # resetear el ambiente y obtener el primer estado\n",
    "        # por cada t de 0 a 99 (limitamos la longitud de los episodios a 100)\n",
    "            # obtener las probabilidades de la política dado el estado en que estamos\n",
    "            # hallar la próxima acción según la distribución de la política\n",
    "            # tomar la acción\n",
    "            # agregar la tupla (estado, acción, recompensa) al episodio\n",
    "            # si el episodio acabó: pasar al próximo episodio\n",
    "            # actualizar el estado en el que estamos para realizar la transición\n",
    "            \n",
    "            \n",
    "        # paso 2: actualizar la función Q con la información del episodio\n",
    "        # para ello, \n",
    "        # por cada tupla (estado, acción) en el episodio\n",
    "        # (TIP: ES POSIBLE USAR set() para obtener las tuplas únicas (estado, acción)\n",
    "            # obtener la primera vez que ocurre la tupla\n",
    "            # sumar todas las recompensas a partir de ese punto descontadas por gama\n",
    "            # para obtener G, el retorno el episodio\n",
    "            # en el diccionario returns_sum acumular para la tupla (estado, acción) el retorno obtenido\n",
    "            # en el diccionario returns_count adicionar una visita a la tupla (estado, acción)\n",
    "            # actualizar Q[estado][accion] dado los nuevos valores de returns_sum y returns_count\n",
    "        \n",
    "        # NOTAR: el diccionario de Q se actualiza en cada episodio, y por lo tanto también se \n",
    "        # actualiza la función policy, que utiliza ese diccionario, mirar la última celda de este\n",
    "        # notebook para entender por qué\n",
    "    \n",
    "    \n",
    "    return Q, policy"
   ]
  },
  {
   "cell_type": "code",
   "execution_count": null,
   "metadata": {
    "collapsed": true
   },
   "outputs": [],
   "source": [
    "Q, policy = mc_control_epsilon_greedy(env, num_episodes=500000, epsilon=0.1)"
   ]
  },
  {
   "cell_type": "code",
   "execution_count": null,
   "metadata": {
    "collapsed": true
   },
   "outputs": [],
   "source": [
    "# Para plotear: crear una función valor dada una función valor de estado-acción\n",
    "# eligiendo la mejor acción en cada estado\n",
    "V = defaultdict(float)\n",
    "for state, actions in Q.items():\n",
    "    action_value = np.max(actions)\n",
    "    V[state] = action_value\n",
    "plotting.plot_value_function(V, title=\"Función de Valor ótima\")"
   ]
  },
  {
   "cell_type": "code",
   "execution_count": 5,
   "metadata": {},
   "outputs": [
    {
     "name": "stdout",
     "output_type": "stream",
     "text": [
      "[1. 1. 1. 1. 1. 1. 1. 1. 1. 1.]\n",
      "[2. 2. 2. 2. 2. 2. 2. 2. 2. 2.]\n"
     ]
    }
   ],
   "source": [
    "# ejemplo de cómo la política se actualiza cuando Q se actualiza\n",
    "import numpy as np\n",
    "from collections import defaultdict\n",
    "tt = defaultdict(lambda: np.zeros(10))\n",
    "def func_get_back_tt(tt):\n",
    "    def tt_back(a):\n",
    "        return tt[a]\n",
    "    return tt_back\n",
    "tt_back = func_get_back_tt(tt)\n",
    "tt[0] += np.ones(10)\n",
    "print(tt_back(0))\n",
    "tt[0] += np.ones(10)\n",
    "print(tt_back(0))\n"
   ]
  },
  {
   "cell_type": "code",
   "execution_count": null,
   "metadata": {},
   "outputs": [],
   "source": []
  }
 ],
 "metadata": {
  "kernelspec": {
   "display_name": "Python 3",
   "language": "python",
   "name": "python3"
  },
  "language_info": {
   "codemirror_mode": {
    "name": "ipython",
    "version": 3
   },
   "file_extension": ".py",
   "mimetype": "text/x-python",
   "name": "python",
   "nbconvert_exporter": "python",
   "pygments_lexer": "ipython3",
   "version": "3.5.2"
  }
 },
 "nbformat": 4,
 "nbformat_minor": 1
}
