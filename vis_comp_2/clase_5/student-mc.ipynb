{
 "cells": [
  {
   "cell_type": "markdown",
   "metadata": {},
   "source": [
    "El siguiente código simula esta cadena de markov: \n",
    "<img src=\"student-mc.PNG\">"
   ]
  },
  {
   "cell_type": "code",
   "execution_count": null,
   "metadata": {
    "collapsed": true
   },
   "outputs": [],
   "source": [
    "import numpy as np\n",
    "import random as r"
   ]
  },
  {
   "cell_type": "code",
   "execution_count": 5,
   "metadata": {},
   "outputs": [],
   "source": [
    "states = [\"C1\", \"C2\", \"C3\", \"fb\", \"pub\", \"pass\", \"sleep\"]\n",
    "\n",
    "state_to_index = {\"C1\":0, \"C2\":1, \"C3\":2, \"fb\":3, \"pub\":4, \"pass\":5, \"sleep\":6}\n",
    "\n",
    "p_s1_s2 = np.array(\n",
    "    # C1   C2   C3   fb   pub  pass sleep '''\n",
    "    [[0.0, 0.5, 0.0, 0.5, 0.0, 0.0, 0.0], #C1\n",
    "     [0.0, 0.0, 0.8, 0.0, 0.0, 0.0, 0.2], #C2\n",
    "     [0.0, 0.0, 0.0, 0.0, 0.4, 0.6, 0.0], #C3\n",
    "     [0.1, 0.0, 0.0, 0.9, 0.0, 0.0, 0.0], #fb\n",
    "     [0.2, 0.4, 0.4, 0.0, 0.0, 0.0, 0.0], #pub\n",
    "     [0.0, 0.0, 0.0, 0.0, 0.0, 0.0, 1.0], #pass\n",
    "     [0.0, 0.0, 0.0, 0.0, 0.0, 0.0, 1.0],]#sleep\n",
    ")"
   ]
  },
  {
   "cell_type": "code",
   "execution_count": 6,
   "metadata": {},
   "outputs": [],
   "source": [
    "state = \"C1\"\n",
    "episode = []\n",
    "while state != \"sleep\":\n",
    "    episode.append(state)\n",
    "    ind = states.index(state)\n",
    "    chosen = np.random.choice(len(states), 1, False, p_s1_s2[ind,:])\n",
    "    state = states[chosen[0]]"
   ]
  },
  {
   "cell_type": "code",
   "execution_count": 7,
   "metadata": {},
   "outputs": [
    {
     "data": {
      "text/plain": [
       "['C1', 'C2', 'C3', 'pass']"
      ]
     },
     "execution_count": 7,
     "metadata": {},
     "output_type": "execute_result"
    }
   ],
   "source": [
    "episode"
   ]
  },
  {
   "cell_type": "markdown",
   "metadata": {},
   "source": [
    "# Usando el código hacer los siguientes ejercicios:\n",
    "1. simular 100 episodios del estudiante\n",
    "2. calcular un estimado del tiempo de visita de cada estado\n",
    "3. calcular un estimado de la longitud media de la cadena"
   ]
  },
  {
   "cell_type": "code",
   "execution_count": null,
   "metadata": {
    "collapsed": true
   },
   "outputs": [],
   "source": []
  }
 ],
 "metadata": {
  "kernelspec": {
   "display_name": "Python 3",
   "language": "python",
   "name": "python3"
  },
  "language_info": {
   "codemirror_mode": {
    "name": "ipython",
    "version": 3
   },
   "file_extension": ".py",
   "mimetype": "text/x-python",
   "name": "python",
   "nbconvert_exporter": "python",
   "pygments_lexer": "ipython3",
   "version": "3.5.2"
  }
 },
 "nbformat": 4,
 "nbformat_minor": 2
}
