{
  "nbformat": 4,
  "nbformat_minor": 0,
  "metadata": {
    "kernelspec": {
      "display_name": "Python 3",
      "language": "python",
      "name": "python3"
    },
    "language_info": {
      "codemirror_mode": {
        "name": "ipython",
        "version": 3
      },
      "file_extension": ".py",
      "mimetype": "text/x-python",
      "name": "python",
      "nbconvert_exporter": "python",
      "pygments_lexer": "ipython3",
      "version": "3.7.6"
    },
    "colab": {
      "name": "red_cnn_simple.ipynb",
      "provenance": [],
      "collapsed_sections": []
    }
  },
  "cells": [
    {
      "cell_type": "markdown",
      "metadata": {
        "id": "kdxZqw-_vJ5Z"
      },
      "source": [
        "# Vamos a hacer una red simple para entrener con mnist\n",
        "\n",
        "- Implementar una red convolucional simple en Keras para entrenar con MNIST\n",
        "- Entrenar la red\n",
        "- Usar la red para predecir en ejemplos nuevos"
      ]
    },
    {
      "cell_type": "markdown",
      "metadata": {
        "id": "MU7kp97kvJ5a"
      },
      "source": [
        "## Modelo simple en Keras/Tensorflow\n",
        "\n",
        "Armemos una red muy simple para clasificar digitos."
      ]
    },
    {
      "cell_type": "code",
      "metadata": {
        "id": "t72dcWeXvJ5b"
      },
      "source": [
        "import numpy as np\n",
        "from keras.datasets import mnist\n",
        "from matplotlib import pyplot\n",
        "from tensorflow.keras.models import Sequential\n",
        "from tensorflow.keras.layers import Conv2D, MaxPooling2D, Dense, Flatten\n",
        "from tensorflow.keras.utils import to_categorical\n",
        "\n",
        "num_filters = 8\n",
        "filter_size = 3\n",
        "pool_size = 2\n",
        "\n",
        "# Armar el modelo\n",
        "model = Sequential()\n",
        "model.add(Conv2D(num_filters, filter_size, input_shape=(28, 28, 1)))\n",
        "model.add(MaxPooling2D(pool_size=pool_size))\n",
        "model.add(Flatten())\n",
        "model.add(Dense(10, activation='softmax'))  \n",
        "\n",
        "# otra manera de hacer lo mismo:\n",
        "#model = Sequential([\n",
        "#  Conv2D(num_filters, filter_size, input_shape=(28, 28, 1)),\n",
        "#  MaxPooling2D(pool_size=pool_size),\n",
        "#  Flatten(),\n",
        "#  Dense(10, activation='softmax'),\n",
        "#])\n",
        "\n",
        "# Compilar el modelo\n",
        "model.compile(\n",
        "  'adam',\n",
        "  loss='categorical_crossentropy',\n",
        "  metrics=['accuracy'],\n",
        ")"
      ],
      "execution_count": 1,
      "outputs": []
    },
    {
      "cell_type": "markdown",
      "metadata": {
        "id": "FxFkT112vJ5f"
      },
      "source": [
        "## Cargamos los datos\n"
      ]
    },
    {
      "cell_type": "code",
      "metadata": {
        "id": "vHx6onwbvJ5f",
        "outputId": "1b7d2556-c9c0-4423-b03b-067f93c60684",
        "colab": {
          "base_uri": "https://localhost:8080/",
          "height": 304
        }
      },
      "source": [
        "# Cargar el dataset\n",
        "(train_X, train_y), (test_X, test_y) = mnist.load_data()\n",
        "# Imprimir un resumen de los datos\n",
        "print('Train: X=%s, y=%s' % (train_X.shape, train_y.shape))\n",
        "print('Test: X=%s, y=%s' % (test_X.shape, test_y.shape))\n",
        "# Plotear las primeras imágenes\n",
        "for i in range(9):\n",
        "\t# define subplot\n",
        "\tpyplot.subplot(330 + 1 + i)\n",
        "\t# plot raw pixel data\n",
        "\tpyplot.imshow(train_X[i], cmap=pyplot.get_cmap('gray'))\n",
        "# show the figure\n",
        "pyplot.show()\n",
        "\n",
        "# Normalizamos las imágenes\n",
        "train_X_n = (train_X / 255) - 0.5\n",
        "test_X_n = (test_X / 255) - 0.5\n",
        "\n",
        "# Hacemos reshape de las imágenes para que tengan un canal\n",
        "train_X_n = train_X.reshape((train_X_n.shape[0], 28, 28, 1))\n",
        "test_X_n = test_X.reshape((test_X_n.shape[0], 28, 28, 1))\n",
        "\n",
        "# también se puede hacer\n",
        "#train_X_n = np.expand_dims(train_X_n, axis=3)\n",
        "#test_X_n = np.expand_dims(test_X_n, axis=3)\n",
        "\n"
      ],
      "execution_count": 4,
      "outputs": [
        {
          "output_type": "stream",
          "text": [
            "Train: X=(60000, 28, 28), y=(60000,)\n",
            "Test: X=(10000, 28, 28), y=(10000,)\n"
          ],
          "name": "stdout"
        },
        {
          "output_type": "display_data",
          "data": {
            "image/png": "[encoded data removed]",
            "text/plain": [
              "<Figure size 432x288 with 9 Axes>"
            ]
          },
          "metadata": {
            "tags": [],
            "needs_background": "light"
          }
        }
      ]
    },
    {
      "cell_type": "markdown",
      "metadata": {
        "id": "dpSVZomFvJ5i"
      },
      "source": [
        "### Entrenamos el modelo"
      ]
    },
    {
      "cell_type": "code",
      "metadata": {
        "id": "cf30zYJzvJ5k",
        "outputId": "be50f623-c973-4ed3-ffb6-1511ff4c1073",
        "colab": {
          "base_uri": "https://localhost:8080/",
          "height": 333
        }
      },
      "source": [
        "# Entrenamos el modelo\n",
        "model.fit(\n",
        "  train_X_n,\n",
        "  to_categorical(train_y),\n",
        "  epochs=3,\n",
        "  validation_data=(test_X_n, to_categorical(test_y)),\n",
        ")\n",
        "\n",
        "# Guardar el modelo al disco\n",
        "#model.save_weights('cnn.h5')\n",
        "\n",
        "# Cargar el modelo del disco\n",
        "# model.load_weights('cnn.h5')\n",
        "\n",
        "# Predecir las primeras 5 imágines del test set\n",
        "predicciones = model.predict(test_X_n[:5])\n",
        "\n",
        "# Imprimir las predicciones\n",
        "print(np.argmax(predicciones, axis=1)) # [7, 2, 1, 0, 4]\n",
        "\n",
        "# Chequear que son correctas\n",
        "print(test_y[:5]) # [7, 2, 1, 0, 4]\n",
        "\n",
        "# Plotear esas imágenes\n",
        "for i in range(5):\n",
        "\tpyplot.subplot(330 + 1 + i)\n",
        "\tpyplot.imshow(test_X[i], cmap=pyplot.get_cmap('gray'))\n",
        "pyplot.show()"
      ],
      "execution_count": 5,
      "outputs": [
        {
          "output_type": "stream",
          "text": [
            "Epoch 1/3\n",
            "1875/1875 [==============================] - 19s 10ms/step - loss: 1.8849 - accuracy: 0.8813 - val_loss: 0.5543 - val_accuracy: 0.9313\n",
            "Epoch 2/3\n",
            "1875/1875 [==============================] - 18s 10ms/step - loss: 0.4033 - accuracy: 0.9392 - val_loss: 0.3926 - val_accuracy: 0.9420\n",
            "Epoch 3/3\n",
            "1875/1875 [==============================] - 17s 9ms/step - loss: 0.2632 - accuracy: 0.9505 - val_loss: 0.3106 - val_accuracy: 0.9392\n",
            "[7 2 1 0 4]\n",
            "[7 2 1 0 4]\n"
          ],
          "name": "stdout"
        },
        {
          "output_type": "display_data",
          "data": {
            "image/png": "[encoded data removed]",
            "text/plain": [
              "<Figure size 432x288 with 5 Axes>"
            ]
          },
          "metadata": {
            "tags": [],
            "needs_background": "light"
          }
        }
      ]
    },
    {
      "cell_type": "code",
      "metadata": {
        "id": "AifRlFB0vJ5n",
        "outputId": "2273806b-0831-40e4-c368-d0d4bf6029e6",
        "colab": {
          "base_uri": "https://localhost:8080/",
          "height": 319
        }
      },
      "source": [
        "print(model.summary())"
      ],
      "execution_count": 6,
      "outputs": [
        {
          "output_type": "stream",
          "text": [
            "Model: \"sequential\"\n",
            "_________________________________________________________________\n",
            "Layer (type)                 Output Shape              Param #   \n",
            "=================================================================\n",
            "conv2d (Conv2D)              (None, 26, 26, 8)         80        \n",
            "_________________________________________________________________\n",
            "max_pooling2d (MaxPooling2D) (None, 13, 13, 8)         0         \n",
            "_________________________________________________________________\n",
            "flatten (Flatten)            (None, 1352)              0         \n",
            "_________________________________________________________________\n",
            "dense (Dense)                (None, 10)                13530     \n",
            "=================================================================\n",
            "Total params: 13,610\n",
            "Trainable params: 13,610\n",
            "Non-trainable params: 0\n",
            "_________________________________________________________________\n",
            "None\n"
          ],
          "name": "stdout"
        }
      ]
    },
    {
      "cell_type": "markdown",
      "metadata": {
        "id": "iRQGHvIXxQ_h"
      },
      "source": [
        "### Ejercicio: hacer otra red que tenga:\n",
        "1. Capa convolucional, 8 filtros de 3x3\n",
        "2. Capa max pool\n",
        "3. Capa convolucional, 16 filtros de 3x3\n",
        "4. Capa max pool\n",
        "5. Capa convolucional, 32 filtros de 3x3\n",
        "6. Capa max pool\n",
        "7. Flatten\n",
        "8. Capa densa \n",
        "9. Salida"
      ]
    },
    {
      "cell_type": "code",
      "metadata": {
        "id": "SAHK0wjNvJ5s"
      },
      "source": [
        ""
      ],
      "execution_count": null,
      "outputs": []
    },
    {
      "cell_type": "code",
      "metadata": {
        "id": "X_ialWLjxQcg"
      },
      "source": [
        ""
      ],
      "execution_count": null,
      "outputs": []
    }
  ]
}