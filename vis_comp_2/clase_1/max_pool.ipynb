{
  "nbformat": 4,
  "nbformat_minor": 0,
  "metadata": {
    "colab": {
      "name": "max_pool.ipynb",
      "provenance": []
    },
    "kernelspec": {
      "name": "python3",
      "display_name": "Python 3"
    }
  },
  "cells": [
    {
      "cell_type": "markdown",
      "metadata": {
        "id": "utREfKnWyJy0"
      },
      "source": [
        "### Ejemplo de max pool"
      ]
    },
    {
      "cell_type": "code",
      "metadata": {
        "id": "tux8Whma4M5F",
        "outputId": "003f73dd-53db-44c5-f623-1b8cc17a4c1e",
        "colab": {
          "base_uri": "https://localhost:8080/",
          "height": 88
        }
      },
      "source": [
        "\n",
        "import numpy as np\n",
        "\n",
        "np.random.seed(0)\n",
        "img = np.random.randint(0, 10, size=(4,4), dtype='l')\n",
        "\n",
        "print(img)"
      ],
      "execution_count": 6,
      "outputs": [
        {
          "output_type": "stream",
          "text": [
            "[[5 0 3 3]\n",
            " [7 9 3 5]\n",
            " [2 4 7 6]\n",
            " [8 8 1 6]]\n"
          ],
          "name": "stdout"
        }
      ]
    },
    {
      "cell_type": "code",
      "metadata": {
        "id": "oURqRcMR4YdA",
        "outputId": "a566c7c8-e9a2-4a12-d43c-324a0119e445",
        "colab": {
          "base_uri": "https://localhost:8080/",
          "height": 35
        }
      },
      "source": [
        "np.max(img[0:2,0:2])"
      ],
      "execution_count": 7,
      "outputs": [
        {
          "output_type": "execute_result",
          "data": {
            "text/plain": [
              "9"
            ]
          },
          "metadata": {
            "tags": []
          },
          "execution_count": 7
        }
      ]
    },
    {
      "cell_type": "markdown",
      "metadata": {
        "id": "_pvpX-GwyP7S"
      },
      "source": [
        "### Ejemplo de max pool en la imagen entera"
      ]
    },
    {
      "cell_type": "code",
      "metadata": {
        "id": "3WutmQOe9icl",
        "outputId": "20f40ea2-da44-47df-f59e-1f7087d3d7d5",
        "colab": {
          "base_uri": "https://localhost:8080/",
          "height": 52
        }
      },
      "source": [
        "salida = np.zeros((2,2))\n",
        "for i in range(2):\n",
        "  for j in range(2):\n",
        "    salida[i,j] = np.max(img[2*i:2*i+2,2*j:2*j+2])\n",
        "\n",
        "print(salida)"
      ],
      "execution_count": 8,
      "outputs": [
        {
          "output_type": "stream",
          "text": [
            "[[9. 5.]\n",
            " [8. 7.]]\n"
          ],
          "name": "stdout"
        }
      ]
    },
    {
      "cell_type": "code",
      "metadata": {
        "id": "m45noDAf-Ahq"
      },
      "source": [
        ""
      ],
      "execution_count": null,
      "outputs": []
    }
  ]
}