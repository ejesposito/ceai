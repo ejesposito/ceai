{
 "cells": [
  {
   "cell_type": "markdown",
   "metadata": {},
   "source": [
    "## Introducción a Keras para Deep Learning"
   ]
  },
  {
   "cell_type": "markdown",
   "metadata": {},
   "source": [
    "<div class=\"alert alert-block alert-info\" style=\"font-size:16px;\">\n",
    "    <b>Keras</b> es una librería de redes neuronales en Python que puede correr sobre varios backends (e.g. Tensorflow). Con ella es posible armar modelos de Deep Learning muy fácilmente. Utilizar directamente Tensorflow tiene un montón de facilidades, pero el proceso puede ser difícil, especialmente para quienes son nuevos en Deep Learning. Keras está ganando popularidad. Esta es una mini intro. <br>\n",
    "    <br>\n",
    "Podemos decir que los pasos básicos para la construcción de un modelo son:\n",
    "    <br>\n",
    "\n",
    "<b>1.</b> Armar el modelo. <br>\n",
    "<b>2.</b> Elegir la loss function y el optimizador y compilar el modelo. <br>\n",
    "<b>3.</b> Entrenar el modelo. <br>\n",
    "<b>4.</b> Evaluar el modelo/hacer predicciones. <br>\n",
    "<br> \n",
    "\n",
    "Vamos a realizar estos pasos más abajo. </div>\n",
    "\n",
    "\n",
    "\n"
   ]
  },
  {
   "cell_type": "markdown",
   "metadata": {},
   "source": [
    "<div class=\"alert alert-block alert-info\" style=\"font-size:16px;\">\n",
    "<b> Paso 0. Importar datos de MNIST.</b>\n",
    "</div>"
   ]
  },
  {
   "cell_type": "code",
   "execution_count": 2,
   "metadata": {},
   "outputs": [
    {
     "data": {
      "image/png": "[encoded data removed]",
      "text/plain": [
       "<Figure size 1152x576 with 5 Axes>"
      ]
     },
     "metadata": {
      "needs_background": "light"
     },
     "output_type": "display_data"
    }
   ],
   "source": [
    "%matplotlib inline\n",
    "import numpy as np\n",
    "import tensorflow as tf\n",
    "from sklearn.preprocessing import OneHotEncoder\n",
    "\n",
    "import matplotlib.pyplot as plt\n",
    "# para rotar las imágenes:\n",
    "from scipy import ndimage\n",
    "\n",
    "# usar las facilidades de keras para importar MNIST\n",
    "mnist = tf.keras.datasets.mnist\n",
    "\n",
    "(x_train, y_train),(x_test, y_test) = mnist.load_data()\n",
    "x_train, x_test = x_train / 255.0, x_test / 255.0\n",
    "\n",
    "enc = OneHotEncoder(handle_unknown='ignore')\n",
    "# onehot-encodear el train y el test set\n",
    "enc.fit(y_train.reshape(-1,1))\n",
    "y_train_onehot = enc.transform(y_train.reshape(-1,1)).toarray()\n",
    "y_test_onehot = enc.transform(y_test.reshape(-1,1)).toarray()\n",
    "\n",
    "# elegimos 2200 ejemplos de MNIST aleatoriamente\n",
    "\n",
    "# 2000 para entrenar\n",
    "idx = np.random.randint(x_train.shape[0], size=2200)\n",
    "x_train_sample = x_train[idx[0:2000],:,:]\n",
    "y_train_sample_onehot = y_train_onehot[idx[0:2000],:]\n",
    "\n",
    "# 200 ejemplos para el conjunto de validación (early stopping)\n",
    "x_val_1 = x_train[idx[2000:2200],:,:]\n",
    "y_val_1 = y_train[idx[2000:2200]]\n",
    "y_val_1_onehot = enc.transform(y_val_1.reshape(-1,1)).toarray()\n",
    "\n",
    "# mostrar algunas imágenes para saber de qué se trata\n",
    "fig, axes = plt.subplots(5,1,figsize=(16,8))\n",
    "axes[0].set_title(\"MNIST\")\n",
    "for i in range(5):\n",
    "    axes[i].set_axis_off()\n",
    "    axes[i].imshow(x_train_sample[i,:,:], interpolation='nearest', cmap='gray')"
   ]
  },
  {
   "cell_type": "markdown",
   "metadata": {},
   "source": [
    "<div class=\"alert alert-block alert-info\" style=\"font-size:16px;\">\n",
    "<b> 1. Armar el modelo.</b>\n",
    "</div>"
   ]
  },
  {
   "cell_type": "code",
   "execution_count": 3,
   "metadata": {},
   "outputs": [],
   "source": [
    "# se construye un modelo secuencial en keras, se inicializan los pesos aleatoriamnete con una distribución normal\n",
    "# centrada en 0 y con desviación estándar 1/sqrt(n_in), donde n_in es el tamaño del input del layer\n",
    "\n",
    "# así definimos un modelo secuencial en el cual los inputs fluyen de una capa a otra en la secuencia\n",
    "model = tf.keras.models.Sequential()\n",
    "\n",
    "# model.add(...) premite adicionar capas al modelo\n",
    "# construimos un modelo con dos capas ocultas, una de 512 unidades y otra de 256\n",
    "# el output son diez unidades, una por cada posible dígito (0,1,2,...,9)\n",
    "\n",
    "model.add(tf.keras.layers.Flatten()) # Flatten() es una capa para \"aplastar las imágenes\"\n",
    "        \n",
    "model.add(tf.keras.layers.Dense(512, activation=tf.nn.relu, # Dense(...) es una capa totalmente conectada \n",
    "                                                            # (hay un peso por cada par de unidades de la capa C a la capa C+1)\n",
    "                                                            # activation permite definir la función de activación, por ejemplo,\n",
    "                                                            # relu (rectified linear unit), o linear (sin función de activación)\n",
    "                              kernel_initializer=tf.keras.initializers.random_normal(mean=0, stddev=np.sqrt(1/784))))\n",
    "                                                            # kernel_initializer permite inicializar los valores de los pesos\n",
    "model.add(tf.keras.layers.Dense(256, activation=tf.nn.relu,\n",
    "                              kernel_initializer=tf.keras.initializers.random_normal(mean=0, stddev=np.sqrt(1/512))))\n",
    "model.add(tf.keras.layers.Dense(10, activation=tf.nn.softmax,\n",
    "                              kernel_initializer=tf.keras.initializers.random_normal(mean=0, stddev=np.sqrt(1/256))))\n"
   ]
  },
  {
   "cell_type": "markdown",
   "metadata": {},
   "source": [
    "<div class=\"alert alert-block alert-info\" style=\"font-size:16px;\">\n",
    "<b> 2. Elegir la loss function y el optimizador y compilar el modelo. </b>\n",
    "</div>"
   ]
  },
  {
   "cell_type": "code",
   "execution_count": 4,
   "metadata": {},
   "outputs": [
    {
     "name": "stdout",
     "output_type": "stream",
     "text": [
      "WARNING:tensorflow:From /home/javkrei/.local/lib/python3.5/site-packages/tensorflow/python/ops/resource_variable_ops.py:435: colocate_with (from tensorflow.python.framework.ops) is deprecated and will be removed in a future version.\n",
      "Instructions for updating:\n",
      "Colocations handled automatically by placer.\n"
     ]
    }
   ],
   "source": [
    "# en este caso utilizamos Adam como optim izador con learning rate 10e-3\n",
    "optimizer = tf.keras.optimizers.Adam(lr=0.001)\n",
    "\n",
    "\n",
    "# la loss es la crossentropy\n",
    "loss = tf.keras.losses.categorical_crossentropy\n",
    "\n",
    "# se compila el modelo\n",
    "# las métricas con el parámetro metrics permite monitorear la evolución del modelo\n",
    "# en este caso elegimos la categorical accuracy y la categorical crossentropy\n",
    "model.compile(optimizer=optimizer,\n",
    "              loss=loss,\n",
    "              metrics=['categorical_accuracy', 'categorical_crossentropy'])\n"
   ]
  },
  {
   "cell_type": "markdown",
   "metadata": {},
   "source": [
    "<div class=\"alert alert-block alert-info\" style=\"font-size:16px;\">\n",
    "<b> 3. Entrenar el modelo.</b>\n",
    "</div>"
   ]
  },
  {
   "cell_type": "code",
   "execution_count": 6,
   "metadata": {},
   "outputs": [
    {
     "name": "stdout",
     "output_type": "stream",
     "text": [
      "Train on 2000 samples, validate on 200 samples\n",
      "WARNING:tensorflow:From /home/javkrei/.local/lib/python3.5/site-packages/tensorflow/python/ops/math_ops.py:3066: to_int32 (from tensorflow.python.ops.math_ops) is deprecated and will be removed in a future version.\n",
      "Instructions for updating:\n",
      "Use tf.cast instead.\n",
      "Epoch 1/100\n",
      "2000/2000 [==============================] - 1s 670us/sample - loss: 1.2771 - categorical_accuracy: 0.6470 - categorical_crossentropy: 1.2771 - val_loss: 0.6959 - val_categorical_accuracy: 0.7750 - val_categorical_crossentropy: 0.6959\n",
      "Epoch 2/100\n",
      "2000/2000 [==============================] - 0s 229us/sample - loss: 0.4389 - categorical_accuracy: 0.8665 - categorical_crossentropy: 0.4389 - val_loss: 0.4491 - val_categorical_accuracy: 0.8700 - val_categorical_crossentropy: 0.4491\n",
      "Epoch 3/100\n",
      "2000/2000 [==============================] - 0s 218us/sample - loss: 0.2965 - categorical_accuracy: 0.9145 - categorical_crossentropy: 0.2965 - val_loss: 0.4566 - val_categorical_accuracy: 0.8600 - val_categorical_crossentropy: 0.4566\n",
      "Epoch 4/100\n",
      "2000/2000 [==============================] - 0s 218us/sample - loss: 0.2076 - categorical_accuracy: 0.9420 - categorical_crossentropy: 0.2076 - val_loss: 0.3539 - val_categorical_accuracy: 0.8950 - val_categorical_crossentropy: 0.3539\n",
      "Epoch 5/100\n",
      "2000/2000 [==============================] - 0s 230us/sample - loss: 0.1501 - categorical_accuracy: 0.9615 - categorical_crossentropy: 0.1501 - val_loss: 0.3399 - val_categorical_accuracy: 0.8900 - val_categorical_crossentropy: 0.3399\n",
      "Epoch 6/100\n",
      "2000/2000 [==============================] - 1s 278us/sample - loss: 0.1051 - categorical_accuracy: 0.9780 - categorical_crossentropy: 0.1051 - val_loss: 0.2920 - val_categorical_accuracy: 0.9050 - val_categorical_crossentropy: 0.2920\n",
      "Epoch 7/100\n",
      "2000/2000 [==============================] - 0s 233us/sample - loss: 0.0697 - categorical_accuracy: 0.9895 - categorical_crossentropy: 0.0697 - val_loss: 0.2690 - val_categorical_accuracy: 0.9000 - val_categorical_crossentropy: 0.2690\n",
      "Epoch 8/100\n",
      "2000/2000 [==============================] - 0s 226us/sample - loss: 0.0516 - categorical_accuracy: 0.9900 - categorical_crossentropy: 0.0516 - val_loss: 0.3045 - val_categorical_accuracy: 0.8950 - val_categorical_crossentropy: 0.3045\n",
      "Epoch 9/100\n",
      "2000/2000 [==============================] - 1s 274us/sample - loss: 0.0336 - categorical_accuracy: 0.9980 - categorical_crossentropy: 0.0336 - val_loss: 0.2497 - val_categorical_accuracy: 0.9000 - val_categorical_crossentropy: 0.2497\n",
      "Epoch 10/100\n",
      "2000/2000 [==============================] - 0s 216us/sample - loss: 0.0263 - categorical_accuracy: 0.9975 - categorical_crossentropy: 0.0263 - val_loss: 0.2846 - val_categorical_accuracy: 0.8950 - val_categorical_crossentropy: 0.2846\n",
      "Epoch 11/100\n",
      "2000/2000 [==============================] - 0s 218us/sample - loss: 0.0193 - categorical_accuracy: 1.0000 - categorical_crossentropy: 0.0193 - val_loss: 0.2650 - val_categorical_accuracy: 0.9200 - val_categorical_crossentropy: 0.2650\n",
      "Epoch 12/100\n",
      "2000/2000 [==============================] - 0s 213us/sample - loss: 0.0131 - categorical_accuracy: 1.0000 - categorical_crossentropy: 0.0131 - val_loss: 0.2713 - val_categorical_accuracy: 0.9050 - val_categorical_crossentropy: 0.2713\n",
      "Epoch 13/100\n",
      "2000/2000 [==============================] - 0s 210us/sample - loss: 0.0098 - categorical_accuracy: 1.0000 - categorical_crossentropy: 0.0098 - val_loss: 0.2621 - val_categorical_accuracy: 0.9000 - val_categorical_crossentropy: 0.2621\n",
      "Epoch 14/100\n",
      "2000/2000 [==============================] - 0s 217us/sample - loss: 0.0073 - categorical_accuracy: 1.0000 - categorical_crossentropy: 0.0073 - val_loss: 0.2664 - val_categorical_accuracy: 0.9050 - val_categorical_crossentropy: 0.2664\n",
      "Epoch 15/100\n",
      "2000/2000 [==============================] - 0s 217us/sample - loss: 0.0064 - categorical_accuracy: 1.0000 - categorical_crossentropy: 0.0064 - val_loss: 0.2528 - val_categorical_accuracy: 0.9100 - val_categorical_crossentropy: 0.2528\n",
      "Epoch 16/100\n",
      "2000/2000 [==============================] - 0s 229us/sample - loss: 0.0048 - categorical_accuracy: 1.0000 - categorical_crossentropy: 0.0048 - val_loss: 0.2587 - val_categorical_accuracy: 0.9100 - val_categorical_crossentropy: 0.2587\n",
      "Epoch 17/100\n",
      "2000/2000 [==============================] - 0s 224us/sample - loss: 0.0038 - categorical_accuracy: 1.0000 - categorical_crossentropy: 0.0038 - val_loss: 0.2548 - val_categorical_accuracy: 0.9150 - val_categorical_crossentropy: 0.2548\n",
      "Epoch 18/100\n",
      "2000/2000 [==============================] - 0s 219us/sample - loss: 0.0033 - categorical_accuracy: 1.0000 - categorical_crossentropy: 0.0033 - val_loss: 0.2608 - val_categorical_accuracy: 0.9100 - val_categorical_crossentropy: 0.2608\n",
      "Epoch 19/100\n",
      "2000/2000 [==============================] - 0s 217us/sample - loss: 0.0029 - categorical_accuracy: 1.0000 - categorical_crossentropy: 0.0029 - val_loss: 0.2593 - val_categorical_accuracy: 0.9150 - val_categorical_crossentropy: 0.2593\n",
      "Epoch 20/100\n",
      "2000/2000 [==============================] - 0s 213us/sample - loss: 0.0027 - categorical_accuracy: 1.0000 - categorical_crossentropy: 0.0027 - val_loss: 0.2609 - val_categorical_accuracy: 0.9150 - val_categorical_crossentropy: 0.2609\n",
      "Epoch 21/100\n",
      "2000/2000 [==============================] - 0s 214us/sample - loss: 0.0023 - categorical_accuracy: 1.0000 - categorical_crossentropy: 0.0023 - val_loss: 0.2697 - val_categorical_accuracy: 0.9150 - val_categorical_crossentropy: 0.2697\n",
      "Epoch 22/100\n",
      "2000/2000 [==============================] - 0s 216us/sample - loss: 0.0021 - categorical_accuracy: 1.0000 - categorical_crossentropy: 0.0021 - val_loss: 0.2626 - val_categorical_accuracy: 0.9100 - val_categorical_crossentropy: 0.2626\n",
      "Epoch 23/100\n",
      "2000/2000 [==============================] - 1s 278us/sample - loss: 0.0019 - categorical_accuracy: 1.0000 - categorical_crossentropy: 0.0019 - val_loss: 0.2665 - val_categorical_accuracy: 0.9100 - val_categorical_crossentropy: 0.2665\n",
      "Epoch 24/100\n",
      "2000/2000 [==============================] - 0s 243us/sample - loss: 0.0017 - categorical_accuracy: 1.0000 - categorical_crossentropy: 0.0017 - val_loss: 0.2661 - val_categorical_accuracy: 0.9100 - val_categorical_crossentropy: 0.2661\n",
      "Epoch 25/100\n",
      "2000/2000 [==============================] - 1s 266us/sample - loss: 0.0015 - categorical_accuracy: 1.0000 - categorical_crossentropy: 0.0015 - val_loss: 0.2668 - val_categorical_accuracy: 0.9150 - val_categorical_crossentropy: 0.2668\n",
      "Epoch 26/100\n",
      "2000/2000 [==============================] - 1s 254us/sample - loss: 0.0014 - categorical_accuracy: 1.0000 - categorical_crossentropy: 0.0014 - val_loss: 0.2662 - val_categorical_accuracy: 0.9100 - val_categorical_crossentropy: 0.2662\n",
      "Epoch 27/100\n",
      "2000/2000 [==============================] - 0s 221us/sample - loss: 0.0013 - categorical_accuracy: 1.0000 - categorical_crossentropy: 0.0013 - val_loss: 0.2709 - val_categorical_accuracy: 0.9100 - val_categorical_crossentropy: 0.2709\n",
      "Epoch 28/100\n",
      "2000/2000 [==============================] - 0s 216us/sample - loss: 0.0012 - categorical_accuracy: 1.0000 - categorical_crossentropy: 0.0012 - val_loss: 0.2664 - val_categorical_accuracy: 0.9100 - val_categorical_crossentropy: 0.2664\n",
      "Epoch 29/100\n",
      "2000/2000 [==============================] - 0s 228us/sample - loss: 0.0011 - categorical_accuracy: 1.0000 - categorical_crossentropy: 0.0011 - val_loss: 0.2711 - val_categorical_accuracy: 0.9100 - val_categorical_crossentropy: 0.2711\n",
      "Epoch 30/100\n",
      "2000/2000 [==============================] - 0s 235us/sample - loss: 0.0010 - categorical_accuracy: 1.0000 - categorical_crossentropy: 0.0010 - val_loss: 0.2696 - val_categorical_accuracy: 0.9100 - val_categorical_crossentropy: 0.2696\n",
      "Epoch 31/100\n",
      "2000/2000 [==============================] - 0s 250us/sample - loss: 9.6745e-04 - categorical_accuracy: 1.0000 - categorical_crossentropy: 9.6745e-04 - val_loss: 0.2712 - val_categorical_accuracy: 0.9100 - val_categorical_crossentropy: 0.2712\n",
      "Epoch 32/100\n",
      "2000/2000 [==============================] - 0s 215us/sample - loss: 9.0127e-04 - categorical_accuracy: 1.0000 - categorical_crossentropy: 9.0127e-04 - val_loss: 0.2713 - val_categorical_accuracy: 0.9100 - val_categorical_crossentropy: 0.2713\n",
      "Epoch 33/100\n",
      "2000/2000 [==============================] - 0s 222us/sample - loss: 8.4559e-04 - categorical_accuracy: 1.0000 - categorical_crossentropy: 8.4559e-04 - val_loss: 0.2717 - val_categorical_accuracy: 0.9100 - val_categorical_crossentropy: 0.2717\n",
      "Epoch 34/100\n",
      "2000/2000 [==============================] - 0s 225us/sample - loss: 7.9251e-04 - categorical_accuracy: 1.0000 - categorical_crossentropy: 7.9251e-04 - val_loss: 0.2745 - val_categorical_accuracy: 0.9100 - val_categorical_crossentropy: 0.2745\n",
      "Epoch 35/100\n",
      "2000/2000 [==============================] - 0s 205us/sample - loss: 7.4988e-04 - categorical_accuracy: 1.0000 - categorical_crossentropy: 7.4988e-04 - val_loss: 0.2743 - val_categorical_accuracy: 0.9100 - val_categorical_crossentropy: 0.2743\n",
      "Epoch 36/100\n",
      "2000/2000 [==============================] - 0s 221us/sample - loss: 7.0221e-04 - categorical_accuracy: 1.0000 - categorical_crossentropy: 7.0221e-04 - val_loss: 0.2778 - val_categorical_accuracy: 0.9100 - val_categorical_crossentropy: 0.2778\n",
      "Epoch 37/100\n",
      "2000/2000 [==============================] - 1s 293us/sample - loss: 6.6325e-04 - categorical_accuracy: 1.0000 - categorical_crossentropy: 6.6325e-04 - val_loss: 0.2745 - val_categorical_accuracy: 0.9100 - val_categorical_crossentropy: 0.2745\n",
      "Epoch 38/100\n",
      "2000/2000 [==============================] - 0s 212us/sample - loss: 6.2497e-04 - categorical_accuracy: 1.0000 - categorical_crossentropy: 6.2497e-04 - val_loss: 0.2769 - val_categorical_accuracy: 0.9100 - val_categorical_crossentropy: 0.2769\n",
      "Epoch 39/100\n",
      "2000/2000 [==============================] - 0s 211us/sample - loss: 5.9263e-04 - categorical_accuracy: 1.0000 - categorical_crossentropy: 5.9263e-04 - val_loss: 0.2767 - val_categorical_accuracy: 0.9100 - val_categorical_crossentropy: 0.2767\n",
      "Epoch 40/100\n",
      "2000/2000 [==============================] - 0s 212us/sample - loss: 5.6110e-04 - categorical_accuracy: 1.0000 - categorical_crossentropy: 5.6110e-04 - val_loss: 0.2769 - val_categorical_accuracy: 0.9100 - val_categorical_crossentropy: 0.2769\n",
      "Epoch 41/100\n",
      "2000/2000 [==============================] - 0s 208us/sample - loss: 5.3199e-04 - categorical_accuracy: 1.0000 - categorical_crossentropy: 5.3199e-04 - val_loss: 0.2816 - val_categorical_accuracy: 0.9100 - val_categorical_crossentropy: 0.2816\n",
      "Epoch 42/100\n",
      "2000/2000 [==============================] - 0s 236us/sample - loss: 5.0274e-04 - categorical_accuracy: 1.0000 - categorical_crossentropy: 5.0274e-04 - val_loss: 0.2797 - val_categorical_accuracy: 0.9100 - val_categorical_crossentropy: 0.2797\n",
      "Epoch 43/100\n",
      "2000/2000 [==============================] - 1s 281us/sample - loss: 4.8073e-04 - categorical_accuracy: 1.0000 - categorical_crossentropy: 4.8073e-04 - val_loss: 0.2800 - val_categorical_accuracy: 0.9100 - val_categorical_crossentropy: 0.2800\n",
      "Epoch 44/100\n",
      "2000/2000 [==============================] - 1s 275us/sample - loss: 4.5393e-04 - categorical_accuracy: 1.0000 - categorical_crossentropy: 4.5393e-04 - val_loss: 0.2803 - val_categorical_accuracy: 0.9100 - val_categorical_crossentropy: 0.2803\n",
      "Epoch 45/100\n",
      "2000/2000 [==============================] - 1s 282us/sample - loss: 4.3717e-04 - categorical_accuracy: 1.0000 - categorical_crossentropy: 4.3717e-04 - val_loss: 0.2796 - val_categorical_accuracy: 0.9100 - val_categorical_crossentropy: 0.2796\n",
      "Epoch 46/100\n",
      "2000/2000 [==============================] - 1s 258us/sample - loss: 4.1357e-04 - categorical_accuracy: 1.0000 - categorical_crossentropy: 4.1357e-04 - val_loss: 0.2825 - val_categorical_accuracy: 0.9100 - val_categorical_crossentropy: 0.2825\n",
      "Epoch 47/100\n",
      "2000/2000 [==============================] - 0s 248us/sample - loss: 3.9596e-04 - categorical_accuracy: 1.0000 - categorical_crossentropy: 3.9596e-04 - val_loss: 0.2829 - val_categorical_accuracy: 0.9150 - val_categorical_crossentropy: 0.2829\n",
      "Epoch 48/100\n",
      "2000/2000 [==============================] - 0s 245us/sample - loss: 3.7762e-04 - categorical_accuracy: 1.0000 - categorical_crossentropy: 3.7762e-04 - val_loss: 0.2823 - val_categorical_accuracy: 0.9100 - val_categorical_crossentropy: 0.2823\n",
      "Epoch 49/100\n",
      "2000/2000 [==============================] - 1s 266us/sample - loss: 3.5804e-04 - categorical_accuracy: 1.0000 - categorical_crossentropy: 3.5804e-04 - val_loss: 0.2833 - val_categorical_accuracy: 0.9150 - val_categorical_crossentropy: 0.2833\n",
      "Epoch 50/100\n",
      "2000/2000 [==============================] - 1s 258us/sample - loss: 3.4418e-04 - categorical_accuracy: 1.0000 - categorical_crossentropy: 3.4418e-04 - val_loss: 0.2827 - val_categorical_accuracy: 0.9100 - val_categorical_crossentropy: 0.2827\n",
      "Epoch 51/100\n",
      "2000/2000 [==============================] - 1s 252us/sample - loss: 3.3123e-04 - categorical_accuracy: 1.0000 - categorical_crossentropy: 3.3123e-04 - val_loss: 0.2844 - val_categorical_accuracy: 0.9150 - val_categorical_crossentropy: 0.2844\n",
      "Epoch 52/100\n",
      "2000/2000 [==============================] - 0s 225us/sample - loss: 3.1711e-04 - categorical_accuracy: 1.0000 - categorical_crossentropy: 3.1711e-04 - val_loss: 0.2838 - val_categorical_accuracy: 0.9100 - val_categorical_crossentropy: 0.2838\n",
      "Epoch 53/100\n",
      "2000/2000 [==============================] - 0s 230us/sample - loss: 3.0650e-04 - categorical_accuracy: 1.0000 - categorical_crossentropy: 3.0650e-04 - val_loss: 0.2868 - val_categorical_accuracy: 0.9200 - val_categorical_crossentropy: 0.2868\n",
      "Epoch 54/100\n",
      "2000/2000 [==============================] - 0s 238us/sample - loss: 2.9038e-04 - categorical_accuracy: 1.0000 - categorical_crossentropy: 2.9038e-04 - val_loss: 0.2865 - val_categorical_accuracy: 0.9150 - val_categorical_crossentropy: 0.2865\n",
      "Epoch 55/100\n",
      "2000/2000 [==============================] - 0s 220us/sample - loss: 2.7908e-04 - categorical_accuracy: 1.0000 - categorical_crossentropy: 2.7908e-04 - val_loss: 0.2861 - val_categorical_accuracy: 0.9150 - val_categorical_crossentropy: 0.2861\n",
      "Epoch 56/100\n",
      "2000/2000 [==============================] - 0s 238us/sample - loss: 2.6827e-04 - categorical_accuracy: 1.0000 - categorical_crossentropy: 2.6827e-04 - val_loss: 0.2869 - val_categorical_accuracy: 0.9200 - val_categorical_crossentropy: 0.2869\n",
      "Epoch 57/100\n",
      "2000/2000 [==============================] - 1s 251us/sample - loss: 2.5858e-04 - categorical_accuracy: 1.0000 - categorical_crossentropy: 2.5858e-04 - val_loss: 0.2885 - val_categorical_accuracy: 0.9200 - val_categorical_crossentropy: 0.2885\n",
      "Epoch 58/100\n",
      "2000/2000 [==============================] - 0s 239us/sample - loss: 2.4825e-04 - categorical_accuracy: 1.0000 - categorical_crossentropy: 2.4825e-04 - val_loss: 0.2873 - val_categorical_accuracy: 0.9200 - val_categorical_crossentropy: 0.2873\n",
      "Epoch 59/100\n",
      "2000/2000 [==============================] - 0s 234us/sample - loss: 2.4002e-04 - categorical_accuracy: 1.0000 - categorical_crossentropy: 2.4002e-04 - val_loss: 0.2900 - val_categorical_accuracy: 0.9200 - val_categorical_crossentropy: 0.2900\n",
      "Epoch 60/100\n",
      "2000/2000 [==============================] - 0s 228us/sample - loss: 2.3055e-04 - categorical_accuracy: 1.0000 - categorical_crossentropy: 2.3055e-04 - val_loss: 0.2886 - val_categorical_accuracy: 0.9200 - val_categorical_crossentropy: 0.2886\n",
      "Epoch 61/100\n",
      "2000/2000 [==============================] - 0s 224us/sample - loss: 2.2175e-04 - categorical_accuracy: 1.0000 - categorical_crossentropy: 2.2175e-04 - val_loss: 0.2890 - val_categorical_accuracy: 0.9200 - val_categorical_crossentropy: 0.2890\n",
      "Epoch 62/100\n",
      "2000/2000 [==============================] - 0s 225us/sample - loss: 2.1439e-04 - categorical_accuracy: 1.0000 - categorical_crossentropy: 2.1439e-04 - val_loss: 0.2898 - val_categorical_accuracy: 0.9250 - val_categorical_crossentropy: 0.2898\n",
      "Epoch 63/100\n",
      "2000/2000 [==============================] - 0s 235us/sample - loss: 2.0647e-04 - categorical_accuracy: 1.0000 - categorical_crossentropy: 2.0647e-04 - val_loss: 0.2921 - val_categorical_accuracy: 0.9200 - val_categorical_crossentropy: 0.2921\n",
      "Epoch 64/100\n",
      "2000/2000 [==============================] - 0s 226us/sample - loss: 1.9972e-04 - categorical_accuracy: 1.0000 - categorical_crossentropy: 1.9972e-04 - val_loss: 0.2905 - val_categorical_accuracy: 0.9200 - val_categorical_crossentropy: 0.2905\n",
      "Epoch 65/100\n",
      "2000/2000 [==============================] - 0s 210us/sample - loss: 1.9358e-04 - categorical_accuracy: 1.0000 - categorical_crossentropy: 1.9358e-04 - val_loss: 0.2923 - val_categorical_accuracy: 0.9200 - val_categorical_crossentropy: 0.2923\n",
      "Epoch 66/100\n",
      "2000/2000 [==============================] - 1s 250us/sample - loss: 1.8778e-04 - categorical_accuracy: 1.0000 - categorical_crossentropy: 1.8778e-04 - val_loss: 0.2924 - val_categorical_accuracy: 0.9200 - val_categorical_crossentropy: 0.2924\n",
      "Epoch 67/100\n",
      "2000/2000 [==============================] - 0s 209us/sample - loss: 1.8002e-04 - categorical_accuracy: 1.0000 - categorical_crossentropy: 1.8002e-04 - val_loss: 0.2942 - val_categorical_accuracy: 0.9200 - val_categorical_crossentropy: 0.2942\n",
      "Epoch 68/100\n",
      "2000/2000 [==============================] - 0s 219us/sample - loss: 1.7455e-04 - categorical_accuracy: 1.0000 - categorical_crossentropy: 1.7455e-04 - val_loss: 0.2923 - val_categorical_accuracy: 0.9200 - val_categorical_crossentropy: 0.2923\n",
      "Epoch 69/100\n",
      "2000/2000 [==============================] - 0s 217us/sample - loss: 1.6941e-04 - categorical_accuracy: 1.0000 - categorical_crossentropy: 1.6941e-04 - val_loss: 0.2942 - val_categorical_accuracy: 0.9200 - val_categorical_crossentropy: 0.2942\n",
      "Epoch 70/100\n",
      "2000/2000 [==============================] - 0s 248us/sample - loss: 1.6409e-04 - categorical_accuracy: 1.0000 - categorical_crossentropy: 1.6409e-04 - val_loss: 0.2943 - val_categorical_accuracy: 0.9200 - val_categorical_crossentropy: 0.2943\n",
      "Epoch 71/100\n",
      "2000/2000 [==============================] - 0s 235us/sample - loss: 1.5845e-04 - categorical_accuracy: 1.0000 - categorical_crossentropy: 1.5845e-04 - val_loss: 0.2930 - val_categorical_accuracy: 0.9200 - val_categorical_crossentropy: 0.2930\n",
      "Epoch 72/100\n",
      "2000/2000 [==============================] - 0s 250us/sample - loss: 1.5374e-04 - categorical_accuracy: 1.0000 - categorical_crossentropy: 1.5374e-04 - val_loss: 0.2950 - val_categorical_accuracy: 0.9200 - val_categorical_crossentropy: 0.2950\n",
      "Epoch 73/100\n",
      "2000/2000 [==============================] - 0s 244us/sample - loss: 1.4882e-04 - categorical_accuracy: 1.0000 - categorical_crossentropy: 1.4882e-04 - val_loss: 0.2953 - val_categorical_accuracy: 0.9200 - val_categorical_crossentropy: 0.2953\n",
      "Epoch 74/100\n",
      "2000/2000 [==============================] - 0s 234us/sample - loss: 1.4418e-04 - categorical_accuracy: 1.0000 - categorical_crossentropy: 1.4418e-04 - val_loss: 0.2963 - val_categorical_accuracy: 0.9200 - val_categorical_crossentropy: 0.2963\n",
      "Epoch 75/100\n",
      "2000/2000 [==============================] - 1s 271us/sample - loss: 1.3996e-04 - categorical_accuracy: 1.0000 - categorical_crossentropy: 1.3996e-04 - val_loss: 0.2957 - val_categorical_accuracy: 0.9200 - val_categorical_crossentropy: 0.2957\n",
      "Epoch 76/100\n",
      "2000/2000 [==============================] - 1s 258us/sample - loss: 1.3597e-04 - categorical_accuracy: 1.0000 - categorical_crossentropy: 1.3597e-04 - val_loss: 0.2953 - val_categorical_accuracy: 0.9200 - val_categorical_crossentropy: 0.2953\n",
      "Epoch 77/100\n",
      "2000/2000 [==============================] - 1s 250us/sample - loss: 1.3142e-04 - categorical_accuracy: 1.0000 - categorical_crossentropy: 1.3142e-04 - val_loss: 0.2978 - val_categorical_accuracy: 0.9200 - val_categorical_crossentropy: 0.2978\n",
      "Epoch 78/100\n",
      "2000/2000 [==============================] - 1s 257us/sample - loss: 1.2850e-04 - categorical_accuracy: 1.0000 - categorical_crossentropy: 1.2850e-04 - val_loss: 0.2965 - val_categorical_accuracy: 0.9200 - val_categorical_crossentropy: 0.2965\n",
      "Epoch 79/100\n",
      "2000/2000 [==============================] - 0s 236us/sample - loss: 1.2433e-04 - categorical_accuracy: 1.0000 - categorical_crossentropy: 1.2433e-04 - val_loss: 0.2976 - val_categorical_accuracy: 0.9200 - val_categorical_crossentropy: 0.2976\n",
      "Epoch 80/100\n",
      "2000/2000 [==============================] - 0s 245us/sample - loss: 1.2084e-04 - categorical_accuracy: 1.0000 - categorical_crossentropy: 1.2084e-04 - val_loss: 0.2976 - val_categorical_accuracy: 0.9200 - val_categorical_crossentropy: 0.2976\n",
      "Epoch 81/100\n",
      "2000/2000 [==============================] - 0s 239us/sample - loss: 1.1749e-04 - categorical_accuracy: 1.0000 - categorical_crossentropy: 1.1749e-04 - val_loss: 0.2986 - val_categorical_accuracy: 0.9200 - val_categorical_crossentropy: 0.2986\n",
      "Epoch 82/100\n",
      "2000/2000 [==============================] - 0s 243us/sample - loss: 1.1424e-04 - categorical_accuracy: 1.0000 - categorical_crossentropy: 1.1424e-04 - val_loss: 0.2992 - val_categorical_accuracy: 0.9200 - val_categorical_crossentropy: 0.2992\n",
      "Epoch 83/100\n",
      "2000/2000 [==============================] - 0s 240us/sample - loss: 1.1103e-04 - categorical_accuracy: 1.0000 - categorical_crossentropy: 1.1103e-04 - val_loss: 0.2993 - val_categorical_accuracy: 0.9200 - val_categorical_crossentropy: 0.2993\n",
      "Epoch 84/100\n",
      "2000/2000 [==============================] - 0s 241us/sample - loss: 1.0821e-04 - categorical_accuracy: 1.0000 - categorical_crossentropy: 1.0821e-04 - val_loss: 0.2989 - val_categorical_accuracy: 0.9200 - val_categorical_crossentropy: 0.2989\n",
      "Epoch 85/100\n",
      "2000/2000 [==============================] - 0s 227us/sample - loss: 1.0528e-04 - categorical_accuracy: 1.0000 - categorical_crossentropy: 1.0528e-04 - val_loss: 0.2991 - val_categorical_accuracy: 0.9200 - val_categorical_crossentropy: 0.2991\n",
      "Epoch 86/100\n",
      "2000/2000 [==============================] - 0s 229us/sample - loss: 1.0231e-04 - categorical_accuracy: 1.0000 - categorical_crossentropy: 1.0231e-04 - val_loss: 0.3009 - val_categorical_accuracy: 0.9200 - val_categorical_crossentropy: 0.3009\n",
      "Epoch 87/100\n",
      "2000/2000 [==============================] - 0s 238us/sample - loss: 9.9978e-05 - categorical_accuracy: 1.0000 - categorical_crossentropy: 9.9978e-05 - val_loss: 0.3005 - val_categorical_accuracy: 0.9200 - val_categorical_crossentropy: 0.3005\n",
      "Epoch 88/100\n",
      "2000/2000 [==============================] - 1s 251us/sample - loss: 9.7296e-05 - categorical_accuracy: 1.0000 - categorical_crossentropy: 9.7296e-05 - val_loss: 0.3009 - val_categorical_accuracy: 0.9200 - val_categorical_crossentropy: 0.3009\n",
      "Epoch 89/100\n",
      "2000/2000 [==============================] - 0s 236us/sample - loss: 9.4401e-05 - categorical_accuracy: 1.0000 - categorical_crossentropy: 9.4401e-05 - val_loss: 0.3017 - val_categorical_accuracy: 0.9200 - val_categorical_crossentropy: 0.3017\n",
      "Epoch 90/100\n",
      "2000/2000 [==============================] - 0s 223us/sample - loss: 9.2377e-05 - categorical_accuracy: 1.0000 - categorical_crossentropy: 9.2377e-05 - val_loss: 0.3019 - val_categorical_accuracy: 0.9200 - val_categorical_crossentropy: 0.3019\n",
      "Epoch 91/100\n",
      "2000/2000 [==============================] - 0s 220us/sample - loss: 8.9591e-05 - categorical_accuracy: 1.0000 - categorical_crossentropy: 8.9591e-05 - val_loss: 0.3016 - val_categorical_accuracy: 0.9200 - val_categorical_crossentropy: 0.3016\n",
      "Epoch 92/100\n",
      "2000/2000 [==============================] - 0s 232us/sample - loss: 8.7405e-05 - categorical_accuracy: 1.0000 - categorical_crossentropy: 8.7405e-05 - val_loss: 0.3023 - val_categorical_accuracy: 0.9200 - val_categorical_crossentropy: 0.3023\n",
      "Epoch 93/100\n",
      "2000/2000 [==============================] - 0s 226us/sample - loss: 8.4987e-05 - categorical_accuracy: 1.0000 - categorical_crossentropy: 8.4987e-05 - val_loss: 0.3021 - val_categorical_accuracy: 0.9200 - val_categorical_crossentropy: 0.3021\n",
      "Epoch 94/100\n",
      "2000/2000 [==============================] - 0s 227us/sample - loss: 8.3028e-05 - categorical_accuracy: 1.0000 - categorical_crossentropy: 8.3028e-05 - val_loss: 0.3026 - val_categorical_accuracy: 0.9200 - val_categorical_crossentropy: 0.3026\n",
      "Epoch 95/100\n",
      "2000/2000 [==============================] - 0s 235us/sample - loss: 8.0937e-05 - categorical_accuracy: 1.0000 - categorical_crossentropy: 8.0937e-05 - val_loss: 0.3030 - val_categorical_accuracy: 0.9200 - val_categorical_crossentropy: 0.3030\n",
      "Epoch 96/100\n",
      "2000/2000 [==============================] - 0s 223us/sample - loss: 7.8980e-05 - categorical_accuracy: 1.0000 - categorical_crossentropy: 7.8980e-05 - val_loss: 0.3038 - val_categorical_accuracy: 0.9200 - val_categorical_crossentropy: 0.3038\n",
      "Epoch 97/100\n",
      "2000/2000 [==============================] - 0s 225us/sample - loss: 7.7299e-05 - categorical_accuracy: 1.0000 - categorical_crossentropy: 7.7299e-05 - val_loss: 0.3036 - val_categorical_accuracy: 0.9200 - val_categorical_crossentropy: 0.3036\n",
      "Epoch 98/100\n",
      "2000/2000 [==============================] - 1s 263us/sample - loss: 7.5549e-05 - categorical_accuracy: 1.0000 - categorical_crossentropy: 7.5549e-05 - val_loss: 0.3043 - val_categorical_accuracy: 0.9200 - val_categorical_crossentropy: 0.3043\n",
      "Epoch 99/100\n",
      "2000/2000 [==============================] - 0s 247us/sample - loss: 7.3516e-05 - categorical_accuracy: 1.0000 - categorical_crossentropy: 7.3516e-05 - val_loss: 0.3041 - val_categorical_accuracy: 0.9250 - val_categorical_crossentropy: 0.3041\n",
      "Epoch 100/100\n",
      "2000/2000 [==============================] - 0s 213us/sample - loss: 7.1821e-05 - categorical_accuracy: 1.0000 - categorical_crossentropy: 7.1821e-05 - val_loss: 0.3048 - val_categorical_accuracy: 0.9200 - val_categorical_crossentropy: 0.3048\n"
     ]
    }
   ],
   "source": [
    "# se entrena el modelo con tamaño del batch 100, usando el primer conjunto de validación para early stopping\n",
    "# para ello se utiliza la función model.fit(...)\n",
    "# NOTA: utilizar fit múltiples veces con diferentes datos continúa entrenando el modelo\n",
    "out = model.fit(x_train_sample, \n",
    "          y_train_sample_onehot, \n",
    "          batch_size=100,\n",
    "          epochs=100,\n",
    "          validation_data=(x_val_1, y_val_1_onehot))"
   ]
  },
  {
   "cell_type": "markdown",
   "metadata": {},
   "source": [
    "<div class=\"alert alert-block alert-info\" style=\"font-size:16px;\">\n",
    "<b> 4. Evaluar el modelo/hacer predicciones. </b>\n",
    "</div>"
   ]
  },
  {
   "cell_type": "code",
   "execution_count": 8,
   "metadata": {},
   "outputs": [
    {
     "data": {
      "image/png": "[encoded data removed]",
      "text/plain": [
       "<Figure size 1152x576 with 2 Axes>"
      ]
     },
     "metadata": {
      "needs_background": "light"
     },
     "output_type": "display_data"
    },
    {
     "data": {
      "image/png": "[encoded data removed]",
      "text/plain": [
       "<Figure size 1152x576 with 5 Axes>"
      ]
     },
     "metadata": {
      "needs_background": "light"
     },
     "output_type": "display_data"
    }
   ],
   "source": [
    "# mostrar la evaluación del modelo:\n",
    "# Graficar accuracy para training, test y validation sets\n",
    "fig, axes = plt.subplots(1,2,figsize=(16,8))\n",
    "axes[0].set_title(\"cross entropy\")\n",
    "axes[1].set_title(\"accuracy\")\n",
    "axes[0].plot(out.history['categorical_crossentropy'], label='training set')\n",
    "axes[0].plot(out.history['val_categorical_crossentropy'], label='validation set')\n",
    "axes[0].legend()\n",
    "axes[1].plot(out.history['categorical_accuracy'], label='training set')\n",
    "axes[1].plot(out.history['val_categorical_accuracy'], label='validation set')\n",
    "axes[1].legend()\n",
    "\n",
    "# podemos hacer predicciones en el test set:\n",
    "# para eso utilizamos la función model.predict(...)\n",
    "\n",
    "predicted = np.argmax(model.predict(x_test[0:5]), axis=1)\n",
    "\n",
    "# mostrar algunas imágenes para saber de qué se trata\n",
    "fig, axes = plt.subplots(5,1,figsize=(16,8))\n",
    "plt.subplots_adjust(wspace=0.5, hspace=0.5)\n",
    "axes[0].set_title(\"MNIST\")\n",
    "for i in range(5):\n",
    "    axes[i].set_title(\"prediccion: \" + str(predicted[i]))\n",
    "    axes[i].set_axis_off()\n",
    "    axes[i].imshow(x_test[i,:,:], interpolation='nearest', cmap='gray')\n"
   ]
  },
  {
   "cell_type": "code",
   "execution_count": null,
   "metadata": {},
   "outputs": [],
   "source": []
  }
 ],
 "metadata": {
  "kernelspec": {
   "display_name": "Python 3",
   "language": "python",
   "name": "python3"
  },
  "language_info": {
   "codemirror_mode": {
    "name": "ipython",
    "version": 3
   },
   "file_extension": ".py",
   "mimetype": "text/x-python",
   "name": "python",
   "nbconvert_exporter": "python",
   "pygments_lexer": "ipython3",
   "version": "3.7.9"
  }
 },
 "nbformat": 4,
 "nbformat_minor": 4
}
