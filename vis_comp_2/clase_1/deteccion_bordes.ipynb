{
  "nbformat": 4,
  "nbformat_minor": 0,
  "metadata": {
    "colab": {
      "name": "deteccion_bordes.ipynb",
      "provenance": []
    },
    "kernelspec": {
      "name": "python3",
      "display_name": "Python 3"
    }
  },
  "cells": [
    {
      "cell_type": "markdown",
      "metadata": {
        "id": "76U31QK1xog_"
      },
      "source": [
        "### Veamos el ejemplo en las slides"
      ]
    },
    {
      "cell_type": "code",
      "metadata": {
        "id": "Hv4_aTQNNlX2",
        "outputId": "ead791bd-1b4f-4b4e-ba00-572ee0b3ab2c",
        "colab": {
          "base_uri": "https://localhost:8080/",
          "height": 159
        }
      },
      "source": [
        "# detección de bordes:\n",
        "import numpy as np\n",
        "np.random.seed(0)\n",
        "img = np.random.randint(0, 10, size=(5,5), dtype='l')\n",
        "filtro = np.array([[1,0,-1],\n",
        "                   [1,0,-1],\n",
        "                   [1,0,-1]])\n",
        "print(img)\n",
        "print(filtro)"
      ],
      "execution_count": 13,
      "outputs": [
        {
          "output_type": "stream",
          "text": [
            "[[5 0 3 3 7]\n",
            " [9 3 5 2 4]\n",
            " [7 6 8 8 1]\n",
            " [6 7 7 8 1]\n",
            " [5 9 8 9 4]]\n",
            "[[ 1  0 -1]\n",
            " [ 1  0 -1]\n",
            " [ 1  0 -1]]\n"
          ],
          "name": "stdout"
        }
      ]
    },
    {
      "cell_type": "markdown",
      "metadata": {
        "id": "oRf0nvhZxwii"
      },
      "source": [
        "### Multiplicación elemento a elemento y suma"
      ]
    },
    {
      "cell_type": "code",
      "metadata": {
        "id": "vbQNwQgmNtXh",
        "outputId": "474455f7-db20-4f5e-d7a3-15bfc79fc6e3",
        "colab": {
          "base_uri": "https://localhost:8080/",
          "height": 35
        }
      },
      "source": [
        "np.sum(np.sum(img[0:3,0:3]*filtro))"
      ],
      "execution_count": 20,
      "outputs": [
        {
          "output_type": "execute_result",
          "data": {
            "text/plain": [
              "5"
            ]
          },
          "metadata": {
            "tags": []
          },
          "execution_count": 20
        }
      ]
    },
    {
      "cell_type": "code",
      "metadata": {
        "id": "vGBWJGniWiLS"
      },
      "source": [
        "np.sum(np.sum(img[1:4,0:3]*filtro))"
      ],
      "execution_count": null,
      "outputs": []
    },
    {
      "cell_type": "code",
      "metadata": {
        "id": "ZAlz3I6PPXW2"
      },
      "source": [
        "img = np.repeat([[10,10,10,0,0,0]], 6, axis=0)\n",
        "print(img)"
      ],
      "execution_count": 35,
      "outputs": []
    },
    {
      "cell_type": "markdown",
      "metadata": {
        "id": "pIa23F_-x94J"
      },
      "source": [
        "### Convolucionar la imagen entera y ver el resultado"
      ]
    },
    {
      "cell_type": "code",
      "metadata": {
        "id": "jTZRbZFWW9mJ",
        "outputId": "f6dec8b5-5304-4666-c57f-bbc81bfb2430",
        "colab": {
          "base_uri": "https://localhost:8080/",
          "height": 88
        }
      },
      "source": [
        "# usamos scipy.signal.convolve2d\n",
        "from scipy.signal import convolve2d\n",
        "convolve2d(img,filtro,'valid')"
      ],
      "execution_count": 41,
      "outputs": [
        {
          "output_type": "execute_result",
          "data": {
            "text/plain": [
              "array([[  0, -30, -30,   0],\n",
              "       [  0, -30, -30,   0],\n",
              "       [  0, -30, -30,   0],\n",
              "       [  0, -30, -30,   0]])"
            ]
          },
          "metadata": {
            "tags": []
          },
          "execution_count": 41
        }
      ]
    }
  ]
}