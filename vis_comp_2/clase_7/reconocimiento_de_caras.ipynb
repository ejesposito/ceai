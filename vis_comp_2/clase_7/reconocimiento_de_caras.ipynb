{
  "nbformat": 4,
  "nbformat_minor": 0,
  "metadata": {
    "colab": {
      "name": "reconocimiento_de_caras_.ipynb",
      "provenance": []
    },
    "kernelspec": {
      "name": "python3",
      "display_name": "Python 3"
    }
  },
  "cells": [
    {
      "cell_type": "markdown",
      "metadata": {
        "id": "CGJ7me2mxLQO"
      },
      "source": [
        "# instalar las versiones de los paquetes que necesitamos"
      ]
    },
    {
      "cell_type": "code",
      "metadata": {
        "id": "W5TBBIjVe4rT"
      },
      "source": [
        "!pip install git+https://github.com/rcmalli/keras-vggface.git\n",
        "!pip install mtcnn\n",
        "!pip install keras_applications==1.0.4 --no-deps\n",
        "!pip install tensorflow==1.14.0\n",
        "!pip install keras==2.2.4"
      ],
      "execution_count": null,
      "outputs": []
    },
    {
      "cell_type": "markdown",
      "metadata": {
        "id": "Zbll_Dv1xDTX"
      },
      "source": [
        "# BAJAR una imagen de Sharon Stone:"
      ]
    },
    {
      "cell_type": "code",
      "metadata": {
        "id": "Mp6gTrens1tX"
      },
      "source": [
        "!wget https://3qeqpr26caki16dnhd19sv6by6v-wpengine.netdna-ssl.com/wp-content/uploads/2019/03/sharon_stone1.jpg\n",
        "!wget https://3qeqpr26caki16dnhd19sv6by6v-wpengine.netdna-ssl.com/wp-content/uploads/2019/03/channing_tatum.jpg\n",
        "!wget https://3qeqpr26caki16dnhd19sv6by6v-wpengine.netdna-ssl.com/wp-content/uploads/2019/03/sharon_stone2.jpg\n",
        "!wget https://3qeqpr26caki16dnhd19sv6by6v-wpengine.netdna-ssl.com/wp-content/uploads/2019/03/sharon_stone3.jpg"
      ],
      "execution_count": null,
      "outputs": []
    },
    {
      "cell_type": "code",
      "metadata": {
        "id": "XARFFuEXxcaZ"
      },
      "source": [
        "# Usamos MTCNN para segmentar la imagen y obtener la cara"
      ],
      "execution_count": null,
      "outputs": []
    },
    {
      "cell_type": "code",
      "metadata": {
        "id": "zk1y_1v5fI_d"
      },
      "source": [
        "# ejemplo de \n",
        "import keras\n",
        "from matplotlib import pyplot\n",
        "from PIL import Image\n",
        "from numpy import asarray\n",
        "from mtcnn.mtcnn import MTCNN\n",
        " \n",
        "def extract_face(filename, required_size=(224, 224)):\n",
        "\tpixels = pyplot.imread(filename)\n",
        "\tdetector = MTCNN()\n",
        "\t# detectar caras en la imagen\n",
        "\tresults = detector.detect_faces(pixels)\n",
        "\t# obtener bounding box\n",
        "\tx1, y1, width, height = results[0]['box']\n",
        "\tx2, y2 = x1 + width, y1 + height\n",
        "\t# obtener cara\n",
        "\tface = pixels[y1:y2, x1:x2]\n",
        "\timage = Image.fromarray(face)\n",
        "\timage = image.resize(required_size)\n",
        "\tface_array = asarray(image)\n",
        "\treturn face_array\n",
        " \n",
        "# cargar y extraer cara\n",
        "pixels = extract_face('sharon_stone1.jpg')\n",
        "pyplot.imshow(pixels)\n",
        "pyplot.show()"
      ],
      "execution_count": null,
      "outputs": []
    },
    {
      "cell_type": "code",
      "metadata": {
        "id": "-bbopvbMf7fV"
      },
      "source": [
        "# Ejemplo de detección de caras con el modelo vggface\n",
        "from keras import applications\n",
        "from numpy import expand_dims\n",
        "from matplotlib import pyplot\n",
        "from PIL import Image\n",
        "from numpy import asarray\n",
        "from mtcnn.mtcnn import MTCNN\n",
        "from keras_vggface.vggface import VGGFace\n",
        "from keras_vggface.utils import preprocess_input\n",
        "from keras_vggface.utils import decode_predictions\n",
        "\n",
        "# extraer una cara de la fotografía\n",
        "def extract_face(filename, required_size=(224, 224)):\n",
        "\t# cargar la imagen de una archivo\n",
        "\tpixels = pyplot.imread(filename)\n",
        "\t# crear un detector usando pesos estándar\n",
        "\tdetector = MTCNN()\n",
        "\t# detectar la cara en la imagen\n",
        "\tresults = detector.detect_faces(pixels)\n",
        "\t# extraer la bounding box\n",
        "\tx1, y1, width, height = results[0]['box']\n",
        "\tx2, y2 = x1 + width, y1 + height\n",
        "\t# extraer la cara\n",
        "\tface = pixels[y1:y2, x1:x2]\n",
        "\t# redimensionar los píxeles al tamaño requerido\n",
        "\timage = Image.fromarray(face)\n",
        "\timage = image.resize(required_size)\n",
        "\tface_array = asarray(image)\n",
        "\treturn face_array\n",
        "\n",
        "# cargar la foto y extraer la cara\n",
        "pixels = extract_face('sharon_stone1.jpg')\n",
        "# convertir la cara en un array de ejemplos\n",
        "pixels = pixels.astype('float32')\n",
        "samples = expand_dims(pixels, axis=0)\n",
        "# preprocesar la imagen\n",
        "samples = preprocess_input(samples, version=2)\n",
        "# crear un modelo vggface\n",
        "model = VGGFace(model='resnet50')\n",
        "# predecir\n",
        "yhat = model.predict(samples)\n",
        "# convertir la predicción en nombres\n",
        "results = decode_predictions(yhat)\n",
        "# mostrar los resultados más probables\n",
        "for result in results[0]:\n",
        "\tprint('%s: %.3f%%' % (result[0], result[1]*100))"
      ],
      "execution_count": null,
      "outputs": []
    },
    {
      "cell_type": "code",
      "metadata": {
        "id": "8s4P54hYhX56"
      },
      "source": [
        "# verificación con el modelo VGGFace2\n",
        "from matplotlib import pyplot\n",
        "from PIL import Image\n",
        "from numpy import asarray\n",
        "from scipy.spatial.distance import cosine\n",
        "from mtcnn.mtcnn import MTCNN\n",
        "from keras_vggface.vggface import VGGFace\n",
        "from keras_vggface.utils import preprocess_input\n",
        "\n",
        "# extraer las caras y obtener los embeddings para una lista de archivos\n",
        "def get_embeddings(filenames):\n",
        "\t# extraer caras\n",
        "\tfaces = [extract_face(f) for f in filenames]\n",
        "\t# convertir en array de ejemplos\n",
        "\tsamples = asarray(faces, 'float32')\n",
        "\t# preprocesar\n",
        "\tsamples = preprocess_input(samples, version=2)\n",
        "\t# crear el modelo sin el TOP\n",
        "\tmodel = VGGFace(model='resnet50', include_top=False, input_shape=(224, 224, 3), pooling='avg')\n",
        "\t# predecir los embeddings\n",
        "\tyhat = model.predict(samples)\n",
        "\treturn yhat\n",
        "\n",
        "# determinar si el candidato es un match para para la cara conocida\n",
        "def is_match(known_embedding, candidate_embedding, thresh=0.5):\n",
        "\t# calcular la distancia entre embeddings\n",
        "\tscore = cosine(known_embedding, candidate_embedding)\n",
        "\tif score <= thresh:\n",
        "\t\tprint('>la cara es un Match (%.3f <= %.3f)' % (score, thresh))\n",
        "\telse:\n",
        "\t\tprint('>la cara NO es un Match (%.3f > %.3f)' % (score, thresh))\n",
        "\n",
        "# definir archivos\n",
        "filenames = ['sharon_stone1.jpg', 'sharon_stone2.jpg',\n",
        "\t'sharon_stone3.jpg', 'channing_tatum.jpg']\n",
        "# obtener embeddings de las imágenes\n",
        "embeddings = get_embeddings(filenames)\n",
        "# definir la identidad de sharon stone\n",
        "sharon_id = embeddings[0]\n",
        "# verificar fotos de sharon stone\n",
        "print('Positive Tests')\n",
        "is_match(embeddings[0], embeddings[1])\n",
        "is_match(embeddings[0], embeddings[2])\n",
        "# verificar que no hay un match con otras personas\n",
        "print('Negative Tests')\n",
        "is_match(embeddings[0], embeddings[3])"
      ],
      "execution_count": null,
      "outputs": []
    }
  ]
}